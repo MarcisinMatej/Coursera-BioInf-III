{
 "cells": [
  {
   "cell_type": "code",
   "execution_count": 82,
   "metadata": {},
   "outputs": [],
   "source": [
    "def read_permutation_file(path):\n",
    "    \"\"\"\n",
    "    Reads file which contains 2 sequences separated by new line.\n",
    "    \"\"\"\n",
    "    with open(path) as f:\n",
    "        perm = f.readline().strip().split()\n",
    "    return list(map(int,perm))"
   ]
  },
  {
   "cell_type": "code",
   "execution_count": 88,
   "metadata": {},
   "outputs": [],
   "source": [
    "def print_np_arr(array,to_file=None):\n",
    "    to_print = []\n",
    "    for val in array:\n",
    "        if val > 0:\n",
    "            to_print.append(\"+\"+str(val))\n",
    "        else:\n",
    "            to_print.append(str(val))\n",
    "    if to_file:\n",
    "        with open(to_file, 'a') as f:\n",
    "            print(\" \".join(to_print), file=f) \n",
    "    else:\n",
    "        print(\" \".join(to_print))\n",
    "\n",
    "def gready_reversal_sort(permutation,to_file=None):\n",
    "    import numpy as np\n",
    "    perm = np.array(permutation)\n",
    "    # we are sorting values from 1 therefore +1\n",
    "    for val in range(1, len(permutation)+1):\n",
    "        # careful here, we expect that we will find some element, here should be try catch\n",
    "        # also +1 because we will use array splicing, therefore we need to increase it\n",
    "        pos = np.where(abs(perm) == val)[0][0] +1\n",
    "        if pos == val:\n",
    "            # no need for reversal, element is in place\n",
    "            pass\n",
    "        else:\n",
    "            # we need reversal\n",
    "            perm[val-1:pos]=perm[val-1:pos][::-1]*(-1)\n",
    "            print_np_arr(perm,to_file)\n",
    "        # check if we have positive sign, otherwise we need single reversal\n",
    "        if perm[val-1] < 0:\n",
    "            perm[val-1] = abs(perm[val-1])\n",
    "            print_np_arr(perm,to_file)"
   ]
  },
  {
   "cell_type": "code",
   "execution_count": 139,
   "metadata": {},
   "outputs": [
    {
     "name": "stdout",
     "output_type": "stream",
     "text": [
      "-1 -15 +16 +4 -2 +14 +6 +8 -18 -13 -11 -9 -10 -7 -20 +17 +12 -5 +3 -19\n",
      "+1 -15 +16 +4 -2 +14 +6 +8 -18 -13 -11 -9 -10 -7 -20 +17 +12 -5 +3 -19\n",
      "+1 +2 -4 -16 +15 +14 +6 +8 -18 -13 -11 -9 -10 -7 -20 +17 +12 -5 +3 -19\n",
      "+1 +2 -3 +5 -12 -17 +20 +7 +10 +9 +11 +13 +18 -8 -6 -14 -15 +16 +4 -19\n",
      "+1 +2 +3 +5 -12 -17 +20 +7 +10 +9 +11 +13 +18 -8 -6 -14 -15 +16 +4 -19\n",
      "+1 +2 +3 -4 -16 +15 +14 +6 +8 -18 -13 -11 -9 -10 -7 -20 +17 +12 -5 -19\n",
      "+1 +2 +3 +4 -16 +15 +14 +6 +8 -18 -13 -11 -9 -10 -7 -20 +17 +12 -5 -19\n",
      "+1 +2 +3 +4 +5 -12 -17 +20 +7 +10 +9 +11 +13 +18 -8 -6 -14 -15 +16 -19\n",
      "+1 +2 +3 +4 +5 +6 +8 -18 -13 -11 -9 -10 -7 -20 +17 +12 -14 -15 +16 -19\n",
      "+1 +2 +3 +4 +5 +6 +7 +10 +9 +11 +13 +18 -8 -20 +17 +12 -14 -15 +16 -19\n",
      "+1 +2 +3 +4 +5 +6 +7 +8 -18 -13 -11 -9 -10 -20 +17 +12 -14 -15 +16 -19\n",
      "+1 +2 +3 +4 +5 +6 +7 +8 +9 +11 +13 +18 -10 -20 +17 +12 -14 -15 +16 -19\n",
      "+1 +2 +3 +4 +5 +6 +7 +8 +9 +10 -18 -13 -11 -20 +17 +12 -14 -15 +16 -19\n",
      "+1 +2 +3 +4 +5 +6 +7 +8 +9 +10 +11 +13 +18 -20 +17 +12 -14 -15 +16 -19\n",
      "+1 +2 +3 +4 +5 +6 +7 +8 +9 +10 +11 -12 -17 +20 -18 -13 -14 -15 +16 -19\n",
      "+1 +2 +3 +4 +5 +6 +7 +8 +9 +10 +11 +12 -17 +20 -18 -13 -14 -15 +16 -19\n",
      "+1 +2 +3 +4 +5 +6 +7 +8 +9 +10 +11 +12 +13 +18 -20 +17 -14 -15 +16 -19\n",
      "+1 +2 +3 +4 +5 +6 +7 +8 +9 +10 +11 +12 +13 +14 -17 +20 -18 -15 +16 -19\n",
      "+1 +2 +3 +4 +5 +6 +7 +8 +9 +10 +11 +12 +13 +14 +15 +18 -20 +17 +16 -19\n",
      "+1 +2 +3 +4 +5 +6 +7 +8 +9 +10 +11 +12 +13 +14 +15 -16 -17 +20 -18 -19\n",
      "+1 +2 +3 +4 +5 +6 +7 +8 +9 +10 +11 +12 +13 +14 +15 +16 -17 +20 -18 -19\n",
      "+1 +2 +3 +4 +5 +6 +7 +8 +9 +10 +11 +12 +13 +14 +15 +16 +17 +20 -18 -19\n",
      "+1 +2 +3 +4 +5 +6 +7 +8 +9 +10 +11 +12 +13 +14 +15 +16 +17 +18 -20 -19\n",
      "+1 +2 +3 +4 +5 +6 +7 +8 +9 +10 +11 +12 +13 +14 +15 +16 +17 +18 +19 +20\n"
     ]
    }
   ],
   "source": [
    "import numpy as np\n",
    "arr = [-3,4,1,5,-2]\n",
    "arr=[20,7,10,9,11,13,18,-8,-6,-14,2,-4,-16,15,1,17,12,-5,3,-19]\n",
    "gready_reversal_sort(arr)"
   ]
  },
  {
   "cell_type": "code",
   "execution_count": 89,
   "metadata": {
    "scrolled": true
   },
   "outputs": [],
   "source": [
    "path=r\"C:\\Users\\Matt\\Downloads\\dataset_286_4 (1).txt\"\n",
    "p = read_permutation_file(path)\n",
    "gready_reversal_sort(p,\"gready_res.txt\")"
   ]
  },
  {
   "cell_type": "code",
   "execution_count": 135,
   "metadata": {},
   "outputs": [],
   "source": [
    "def count_breakpoints(permutation):\n",
    "    # start with 2 because we have one breakpoint at start and other at the end\n",
    "    perm = [0]\n",
    "    perm.extend(permutation)\n",
    "    perm.append(len(permutation)+1)\n",
    "    cnt=0\n",
    "    for pos, val in enumerate(perm):\n",
    "        if pos < len(perm)-1:\n",
    "            if val >= 0 and val+1 != perm[pos+1]:\n",
    "                #print(val,perm[pos+1])\n",
    "                cnt+=1\n",
    "            if val < 0 and val+1 != perm[pos+1]:\n",
    "                cnt+=1\n",
    "                #print(val,perm[pos+1])\n",
    "    print(cnt)"
   ]
  },
  {
   "cell_type": "code",
   "execution_count": 138,
   "metadata": {},
   "outputs": [
    {
     "name": "stdout",
     "output_type": "stream",
     "text": [
      "16\n"
     ]
    }
   ],
   "source": [
    "p = [3,4,5,-12,-8,-7,-6,1,2,10,9,-11,13,14]\n",
    "path=r\"C:\\Users\\Matt\\Downloads\\dataset_287_6 (1).txt\"\n",
    "p = read_permutation_file(path)\n",
    "p=[10,6,-8,-7,17,-20,18,19,-5,-16,-11,-4,-3,-2,13,14,-1,9,-12,15]\n",
    "count_breakpoints(p)"
   ]
  },
  {
   "cell_type": "code",
   "execution_count": null,
   "metadata": {},
   "outputs": [],
   "source": []
  }
 ],
 "metadata": {
  "kernelspec": {
   "display_name": "Python 3",
   "language": "python",
   "name": "python3"
  },
  "language_info": {
   "codemirror_mode": {
    "name": "ipython",
    "version": 3
   },
   "file_extension": ".py",
   "mimetype": "text/x-python",
   "name": "python",
   "nbconvert_exporter": "python",
   "pygments_lexer": "ipython3",
   "version": "3.7.3"
  }
 },
 "nbformat": 4,
 "nbformat_minor": 2
}
