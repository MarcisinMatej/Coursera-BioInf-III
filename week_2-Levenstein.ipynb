{
 "cells": [
  {
   "cell_type": "code",
   "execution_count": 1,
   "metadata": {},
   "outputs": [],
   "source": [
    "def read_seq_file(path):\n",
    "    with open(path) as f:\n",
    "        seq1 = f.readline().strip()\n",
    "        seq2 = f.readline().strip()\n",
    "    return seq1, seq2"
   ]
  },
  {
   "cell_type": "code",
   "execution_count": 9,
   "metadata": {},
   "outputs": [],
   "source": [
    "def LevensteinDist(seq1, seq2):\n",
    "    \"\"\"\n",
    "    Creates \n",
    "    seq1 -> represents rowumn\n",
    "    seq2 -> represents col\n",
    "    Returns (path_graph, max_score)\n",
    "    \"\"\"\n",
    "    # Create matrix of lev_distance\n",
    "    lev_dist_mat = [ [0 for row in range(len(seq2)+1)] for col in range(len(seq1)+1)]\n",
    "    for row in range(0, len(seq1)+1):\n",
    "        lev_dist_mat[row][0] = row  \n",
    "    for col in range(0, len(seq2)+1):\n",
    "        lev_dist_mat[0][col] = col\n",
    "    \n",
    "    for row in range(1, len(seq1)+1):\n",
    "        for col in range(1, len(seq2)+1):\n",
    "            if seq1[row-1] == seq2[col-1]:\n",
    "                match = 0\n",
    "            else:\n",
    "                match = 1\n",
    "            \n",
    "            lev_dist_mat[row][col] = min(lev_dist_mat[row-1][col] + 1, lev_dist_mat[row][col-1] +1, lev_dist_mat[row-1][col-1]+match)    \n",
    "    return lev_dist_mat[-1][-1]"
   ]
  },
  {
   "cell_type": "code",
   "execution_count": 11,
   "metadata": {},
   "outputs": [
    {
     "data": {
      "text/plain": [
       "397"
      ]
     },
     "execution_count": 11,
     "metadata": {},
     "output_type": "execute_result"
    }
   ],
   "source": [
    "path=\"/Users/marcisin/Downloads/dataset_248_3.txt\"\n",
    "s1, s2 =read_seq_file(path)\n",
    "# s1 = \"PLEASANTLY\"\n",
    "# s2 = \"MEANLY\"\n",
    "LevensteinDist(s1,s2)"
   ]
  },
  {
   "cell_type": "code",
   "execution_count": 12,
   "metadata": {},
   "outputs": [],
   "source": [
    "def FittingProblem(seq_long, seq_short):\n",
    "    \"\"\"\n",
    "    we allways alling short to long\n",
    "    \"\"\"\n",
    "    min_dist = -float('inf')\n",
    "    for start in range(len(seq_long) - len(seq_short) + 1):\n",
    "        sub_seq = seq_long[start:start+len(seq_short)]\n",
    "        dist = LevensteinDist(sub_seq, seq_short)\n",
    "        if dist > min_dist:\n",
    "            min_dist = dist\n",
    "    return len(seq_short) - min_dist\n",
    "    \n",
    "    "
   ]
  },
  {
   "cell_type": "code",
   "execution_count": 13,
   "metadata": {},
   "outputs": [
    {
     "data": {
      "text/plain": [
       "9"
      ]
     },
     "execution_count": 13,
     "metadata": {},
     "output_type": "execute_result"
    }
   ],
   "source": [
    "path=\"/Users/marcisin/Downloads/dataset_248_3.txt\"\n",
    "s1, s2 =read_seq_file(path)\n",
    "s1 = \"GTAGGCTTAAGGTTA\"\n",
    "s2 = \"TAGATA\"\n",
    "LevensteinDist(s1,s2)"
   ]
  },
  {
   "cell_type": "code",
   "execution_count": null,
   "metadata": {},
   "outputs": [],
   "source": []
  }
 ],
 "metadata": {
  "kernelspec": {
   "display_name": "Python 3",
   "language": "python",
   "name": "python3"
  },
  "language_info": {
   "codemirror_mode": {
    "name": "ipython",
    "version": 3
   },
   "file_extension": ".py",
   "mimetype": "text/x-python",
   "name": "python",
   "nbconvert_exporter": "python",
   "pygments_lexer": "ipython3",
   "version": "3.6.5"
  }
 },
 "nbformat": 4,
 "nbformat_minor": 2
}
