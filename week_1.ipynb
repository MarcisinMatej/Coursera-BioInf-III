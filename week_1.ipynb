{
 "cells": [
  {
   "cell_type": "code",
   "execution_count": 1,
   "metadata": {},
   "outputs": [
    {
     "data": {
      "text/plain": [
       "'\\n DPChange(money, Coins)\\n      MinNumCoins(0) ← 0\\n      for m ← 1 to money\\n         MinNumCoins(m) ← ∞\\n         for i ← 0 to |Coins| - 1\\n            if m ≥ coini\\n               if MinNumCoins(m - coini) + 1 < MinNumCoins(m)\\n                  MinNumCoins(m) ← MinNumCoins(m - coini) + 1\\n      output MinNumCoins(money)\\n'"
      ]
     },
     "execution_count": 1,
     "metadata": {},
     "output_type": "execute_result"
    }
   ],
   "source": [
    "\"\"\"\n",
    " DPChange(money, Coins)\n",
    "      MinNumCoins(0) ← 0\n",
    "      for m ← 1 to money\n",
    "         MinNumCoins(m) ← ∞\n",
    "         for i ← 0 to |Coins| - 1\n",
    "            if m ≥ coini\n",
    "               if MinNumCoins(m - coini) + 1 < MinNumCoins(m)\n",
    "                  MinNumCoins(m) ← MinNumCoins(m - coini) + 1\n",
    "      output MinNumCoins(money)\n",
    "\"\"\""
   ]
  },
  {
   "cell_type": "code",
   "execution_count": 168,
   "metadata": {},
   "outputs": [],
   "source": [
    "def DPChange(money, coins):\n",
    "    \"\"\"\n",
    "    Original version\n",
    "    \"\"\"\n",
    "    # initialize our table with minimal number of coins for that ammount\n",
    "    min_change = [0] \n",
    "    for value in range(1,money+1):\n",
    "        min_change.append(float(\"inf\"))\n",
    "        for coin in coins:\n",
    "            if value >= coin:\n",
    "                if min_change[value] > min_change[value-coin]+1:\n",
    "                    min_change[value] = min_change[value-coin]+1\n",
    "            \n",
    "    return min_change[-1]\n",
    "    "
   ]
  },
  {
   "cell_type": "code",
   "execution_count": 193,
   "metadata": {},
   "outputs": [
    {
     "name": "stdout",
     "output_type": "stream",
     "text": [
      "2\n",
      "[0, 1, 2, 3, 4, 1, 2, 3, 4, 5, 1, 2, 3, 4, 5, 2, 3, 4, 5, 6, 1, 2, 3, 4, 5, 1, 2, 3, 4, 5, 2, 3, 4, 5, 6, 2, 3, 4, 5, 6, 2]\n",
      "2\n"
     ]
    }
   ],
   "source": [
    "money = 40\n",
    "coins = [50,25,20,10,5,1]\n",
    "print(DPChange(money,coins))\n",
    "print(DPChange2(money,coins))\n"
   ]
  },
  {
   "cell_type": "code",
   "execution_count": 46,
   "metadata": {},
   "outputs": [],
   "source": [
    "def read_change_file(path):\n",
    "    with open(path) as f:\n",
    "        money = int(f.readline().strip())\n",
    "        coins = [int(n) for n in f.readline().split(\",\")]\n",
    "    return money, coins"
   ]
  },
  {
   "cell_type": "code",
   "execution_count": 170,
   "metadata": {},
   "outputs": [
    {
     "data": {
      "text/plain": [
       "737"
      ]
     },
     "execution_count": 170,
     "metadata": {},
     "output_type": "execute_result"
    }
   ],
   "source": [
    "path=\"/Users/marcisin/Downloads/dataset_243_10.txt\"\n",
    "DPChange(*read_change_file(path))"
   ]
  },
  {
   "cell_type": "code",
   "execution_count": 162,
   "metadata": {},
   "outputs": [],
   "source": [
    "def DPChange_(money, coins):\n",
    "    \"\"\"\n",
    "    more memmory effective\n",
    "    \"\"\"\n",
    "    max_coin = max(coins)\n",
    "    min_change = [money//max_coin for _ in range(max_coin)]\n",
    "    min_change[0] = money//max_coin\n",
    "    print(max_coin)\n",
    "    coins = sorted(coins)\n",
    "    for value in range(min_change[0]*max_coin, money+1):\n",
    "        for coin in coins:\n",
    "            if value%max_coin >= coin:\n",
    "                if min_change[value%max_coin] > min_change[(value-coin)%max_coin]+1:\n",
    "                    min_change[value%max_coin] = min_change[(value-coin)%max_coin]+1\n",
    "    print(min_change)\n",
    "    if money < max_coin:\n",
    "        # value at index 0 is 0\n",
    "        return min_change[money%max_coin]\n",
    "    else:\n",
    "        # now we have changed indexing, eg max coin=20, and we want money 21 -> value for this lies at index 0 not 1 as 20\n",
    "        # was at the end of the array\n",
    "        return min_change[money%max_coin]"
   ]
  },
  {
   "cell_type": "code",
   "execution_count": 163,
   "metadata": {},
   "outputs": [
    {
     "name": "stdout",
     "output_type": "stream",
     "text": [
      "23\n",
      "[736, 736, 736, 736, 736, 736, 736, 736, 736, 736, 736, 736, 736, 736, 736, 736, 736, 736, 736, 736, 736, 736, 736]\n"
     ]
    },
    {
     "data": {
      "text/plain": [
       "736"
      ]
     },
     "execution_count": 163,
     "metadata": {},
     "output_type": "execute_result"
    }
   ],
   "source": [
    "path=\"/Users/marcisin/Downloads/dataset_243_10.txt\"\n",
    "DPChange_(*read_change_file(path))"
   ]
  },
  {
   "cell_type": "code",
   "execution_count": 191,
   "metadata": {},
   "outputs": [],
   "source": [
    "def DPChange2(money, coins):\n",
    "    \"\"\"\n",
    "    Original version\n",
    "    \"\"\"\n",
    "    # initialize our table with minimal number of coins for that ammount\n",
    "    min_change = [0]\n",
    "    max_coin = max(coins)\n",
    "    for value in range(1,money+1):\n",
    "        min_change.append(float(\"inf\"))\n",
    "        for coin in coins:\n",
    "            if value%max_coin >= coin:\n",
    "                if min_change[-1] > min_change[(value%max_coin-coin)]+1:\n",
    "                    min_change[-1] = min_change[(value%max_coin-coin)]+1\n",
    "        if len(min_change) > max_coin:\n",
    "            del min_change[0]\n",
    "    print(min_change)\n",
    "    return min_change[-1]"
   ]
  },
  {
   "cell_type": "code",
   "execution_count": 192,
   "metadata": {},
   "outputs": [
    {
     "name": "stdout",
     "output_type": "stream",
     "text": [
      "[736, 736, 736, 736, 736, 736, 736, 736, 736, 736, 736, 736, 736, 736, 736, 736, 736, 737, 737, 736, inf, 737, 737]\n"
     ]
    },
    {
     "data": {
      "text/plain": [
       "737"
      ]
     },
     "execution_count": 192,
     "metadata": {},
     "output_type": "execute_result"
    }
   ],
   "source": [
    "path=\"/Users/marcisin/Downloads/dataset_243_10.txt\"\n",
    "DPChange2(*read_change_file(path))"
   ]
  },
  {
   "cell_type": "code",
   "execution_count": null,
   "metadata": {},
   "outputs": [],
   "source": []
  }
 ],
 "metadata": {
  "kernelspec": {
   "display_name": "Python 3",
   "language": "python",
   "name": "python3"
  },
  "language_info": {
   "codemirror_mode": {
    "name": "ipython",
    "version": 3
   },
   "file_extension": ".py",
   "mimetype": "text/x-python",
   "name": "python",
   "nbconvert_exporter": "python",
   "pygments_lexer": "ipython3",
   "version": "3.6.5"
  }
 },
 "nbformat": 4,
 "nbformat_minor": 2
}
