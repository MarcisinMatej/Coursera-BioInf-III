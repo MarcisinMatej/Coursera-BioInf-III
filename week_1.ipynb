{
 "cells": [
  {
   "cell_type": "code",
   "execution_count": 1,
   "metadata": {},
   "outputs": [
    {
     "data": {
      "text/plain": [
       "'\\n DPChange(money, Coins)\\n      MinNumCoins(0) ← 0\\n      for m ← 1 to money\\n         MinNumCoins(m) ← ∞\\n         for i ← 0 to |Coins| - 1\\n            if m ≥ coini\\n               if MinNumCoins(m - coini) + 1 < MinNumCoins(m)\\n                  MinNumCoins(m) ← MinNumCoins(m - coini) + 1\\n      output MinNumCoins(money)\\n'"
      ]
     },
     "execution_count": 1,
     "metadata": {},
     "output_type": "execute_result"
    }
   ],
   "source": [
    "\"\"\"\n",
    " DPChange(money, Coins)\n",
    "      MinNumCoins(0) ← 0\n",
    "      for m ← 1 to money\n",
    "         MinNumCoins(m) ← ∞\n",
    "         for i ← 0 to |Coins| - 1\n",
    "            if m ≥ coini\n",
    "               if MinNumCoins(m - coini) + 1 < MinNumCoins(m)\n",
    "                  MinNumCoins(m) ← MinNumCoins(m - coini) + 1\n",
    "      output MinNumCoins(money)\n",
    "\"\"\""
   ]
  },
  {
   "cell_type": "code",
   "execution_count": 2,
   "metadata": {},
   "outputs": [],
   "source": [
    "def DPChange(money, coins):\n",
    "    \"\"\"\n",
    "    Original version\n",
    "    \"\"\"\n",
    "    # initialize our table with minimal number of coins for that ammount\n",
    "    min_change = [0] \n",
    "    for value in range(1,money+1):\n",
    "        min_change.append(float(\"inf\"))\n",
    "        for coin in coins:\n",
    "            if value >= coin:\n",
    "                if min_change[value] > min_change[value-coin]+1:\n",
    "                    min_change[value] = min_change[value-coin]+1\n",
    "            \n",
    "    return min_change[-1]\n",
    "    "
   ]
  },
  {
   "cell_type": "code",
   "execution_count": 3,
   "metadata": {},
   "outputs": [
    {
     "name": "stdout",
     "output_type": "stream",
     "text": [
      "2\n"
     ]
    },
    {
     "ename": "NameError",
     "evalue": "name 'DPChange2' is not defined",
     "output_type": "error",
     "traceback": [
      "\u001b[0;31m---------------------------------------------------------------------------\u001b[0m",
      "\u001b[0;31mNameError\u001b[0m                                 Traceback (most recent call last)",
      "\u001b[0;32m<ipython-input-3-712eb0c04584>\u001b[0m in \u001b[0;36m<module>\u001b[0;34m\u001b[0m\n\u001b[1;32m      2\u001b[0m \u001b[0mcoins\u001b[0m \u001b[0;34m=\u001b[0m \u001b[0;34m[\u001b[0m\u001b[0;36m50\u001b[0m\u001b[0;34m,\u001b[0m\u001b[0;36m25\u001b[0m\u001b[0;34m,\u001b[0m\u001b[0;36m20\u001b[0m\u001b[0;34m,\u001b[0m\u001b[0;36m10\u001b[0m\u001b[0;34m,\u001b[0m\u001b[0;36m5\u001b[0m\u001b[0;34m,\u001b[0m\u001b[0;36m1\u001b[0m\u001b[0;34m]\u001b[0m\u001b[0;34m\u001b[0m\u001b[0m\n\u001b[1;32m      3\u001b[0m \u001b[0mprint\u001b[0m\u001b[0;34m(\u001b[0m\u001b[0mDPChange\u001b[0m\u001b[0;34m(\u001b[0m\u001b[0mmoney\u001b[0m\u001b[0;34m,\u001b[0m\u001b[0mcoins\u001b[0m\u001b[0;34m)\u001b[0m\u001b[0;34m)\u001b[0m\u001b[0;34m\u001b[0m\u001b[0m\n\u001b[0;32m----> 4\u001b[0;31m \u001b[0mprint\u001b[0m\u001b[0;34m(\u001b[0m\u001b[0mDPChange2\u001b[0m\u001b[0;34m(\u001b[0m\u001b[0mmoney\u001b[0m\u001b[0;34m,\u001b[0m\u001b[0mcoins\u001b[0m\u001b[0;34m)\u001b[0m\u001b[0;34m)\u001b[0m\u001b[0;34m\u001b[0m\u001b[0m\n\u001b[0m",
      "\u001b[0;31mNameError\u001b[0m: name 'DPChange2' is not defined"
     ]
    }
   ],
   "source": [
    "money = 40\n",
    "coins = [50,25,20,10,5,1]\n",
    "print(DPChange(money,coins))\n",
    "print(DPChange2(money,coins))\n"
   ]
  },
  {
   "cell_type": "code",
   "execution_count": 4,
   "metadata": {},
   "outputs": [],
   "source": [
    "def read_change_file(path):\n",
    "    with open(path) as f:\n",
    "        money = int(f.readline().strip())\n",
    "        coins = [int(n) for n in f.readline().split(\",\")]\n",
    "    return money, coins"
   ]
  },
  {
   "cell_type": "code",
   "execution_count": 5,
   "metadata": {},
   "outputs": [
    {
     "ename": "FileNotFoundError",
     "evalue": "[Errno 2] No such file or directory: '/Users/marcisin/Downloads/dataset_243_10.txt'",
     "output_type": "error",
     "traceback": [
      "\u001b[0;31m---------------------------------------------------------------------------\u001b[0m",
      "\u001b[0;31mFileNotFoundError\u001b[0m                         Traceback (most recent call last)",
      "\u001b[0;32m<ipython-input-5-6cea0fd06e1c>\u001b[0m in \u001b[0;36m<module>\u001b[0;34m\u001b[0m\n\u001b[1;32m      1\u001b[0m \u001b[0mpath\u001b[0m\u001b[0;34m=\u001b[0m\u001b[0;34m\"/Users/marcisin/Downloads/dataset_243_10.txt\"\u001b[0m\u001b[0;34m\u001b[0m\u001b[0m\n\u001b[0;32m----> 2\u001b[0;31m \u001b[0mDPChange\u001b[0m\u001b[0;34m(\u001b[0m\u001b[0;34m*\u001b[0m\u001b[0mread_change_file\u001b[0m\u001b[0;34m(\u001b[0m\u001b[0mpath\u001b[0m\u001b[0;34m)\u001b[0m\u001b[0;34m)\u001b[0m\u001b[0;34m\u001b[0m\u001b[0m\n\u001b[0m",
      "\u001b[0;32m<ipython-input-4-bb3071a80899>\u001b[0m in \u001b[0;36mread_change_file\u001b[0;34m(path)\u001b[0m\n\u001b[1;32m      1\u001b[0m \u001b[0;32mdef\u001b[0m \u001b[0mread_change_file\u001b[0m\u001b[0;34m(\u001b[0m\u001b[0mpath\u001b[0m\u001b[0;34m)\u001b[0m\u001b[0;34m:\u001b[0m\u001b[0;34m\u001b[0m\u001b[0m\n\u001b[0;32m----> 2\u001b[0;31m     \u001b[0;32mwith\u001b[0m \u001b[0mopen\u001b[0m\u001b[0;34m(\u001b[0m\u001b[0mpath\u001b[0m\u001b[0;34m)\u001b[0m \u001b[0;32mas\u001b[0m \u001b[0mf\u001b[0m\u001b[0;34m:\u001b[0m\u001b[0;34m\u001b[0m\u001b[0m\n\u001b[0m\u001b[1;32m      3\u001b[0m         \u001b[0mmoney\u001b[0m \u001b[0;34m=\u001b[0m \u001b[0mint\u001b[0m\u001b[0;34m(\u001b[0m\u001b[0mf\u001b[0m\u001b[0;34m.\u001b[0m\u001b[0mreadline\u001b[0m\u001b[0;34m(\u001b[0m\u001b[0;34m)\u001b[0m\u001b[0;34m.\u001b[0m\u001b[0mstrip\u001b[0m\u001b[0;34m(\u001b[0m\u001b[0;34m)\u001b[0m\u001b[0;34m)\u001b[0m\u001b[0;34m\u001b[0m\u001b[0m\n\u001b[1;32m      4\u001b[0m         \u001b[0mcoins\u001b[0m \u001b[0;34m=\u001b[0m \u001b[0;34m[\u001b[0m\u001b[0mint\u001b[0m\u001b[0;34m(\u001b[0m\u001b[0mn\u001b[0m\u001b[0;34m)\u001b[0m \u001b[0;32mfor\u001b[0m \u001b[0mn\u001b[0m \u001b[0;32min\u001b[0m \u001b[0mf\u001b[0m\u001b[0;34m.\u001b[0m\u001b[0mreadline\u001b[0m\u001b[0;34m(\u001b[0m\u001b[0;34m)\u001b[0m\u001b[0;34m.\u001b[0m\u001b[0msplit\u001b[0m\u001b[0;34m(\u001b[0m\u001b[0;34m\",\"\u001b[0m\u001b[0;34m)\u001b[0m\u001b[0;34m]\u001b[0m\u001b[0;34m\u001b[0m\u001b[0m\n\u001b[1;32m      5\u001b[0m     \u001b[0;32mreturn\u001b[0m \u001b[0mmoney\u001b[0m\u001b[0;34m,\u001b[0m \u001b[0mcoins\u001b[0m\u001b[0;34m\u001b[0m\u001b[0m\n",
      "\u001b[0;31mFileNotFoundError\u001b[0m: [Errno 2] No such file or directory: '/Users/marcisin/Downloads/dataset_243_10.txt'"
     ]
    }
   ],
   "source": [
    "path=\"/Users/marcisin/Downloads/dataset_243_10.txt\"\n",
    "DPChange(*read_change_file(path))"
   ]
  },
  {
   "cell_type": "code",
   "execution_count": 6,
   "metadata": {},
   "outputs": [],
   "source": [
    "def DPChange_(money, coins):\n",
    "    \"\"\"\n",
    "    more memmory effective\n",
    "    \"\"\"\n",
    "    max_coin = max(coins)\n",
    "    min_change = [money//max_coin for _ in range(max_coin)]\n",
    "    min_change[0] = money//max_coin\n",
    "    print(max_coin)\n",
    "    coins = sorted(coins)\n",
    "    for value in range(min_change[0]*max_coin, money+1):\n",
    "        for coin in coins:\n",
    "            if value%max_coin >= coin:\n",
    "                if min_change[value%max_coin] > min_change[(value-coin)%max_coin]+1:\n",
    "                    min_change[value%max_coin] = min_change[(value-coin)%max_coin]+1\n",
    "    print(min_change)\n",
    "    if money < max_coin:\n",
    "        # value at index 0 is 0\n",
    "        return min_change[money%max_coin]\n",
    "    else:\n",
    "        # now we have changed indexing, eg max coin=20, and we want money 21 -> value for this lies at index 0 not 1 as 20\n",
    "        # was at the end of the array\n",
    "        return min_change[money%max_coin]"
   ]
  },
  {
   "cell_type": "code",
   "execution_count": 7,
   "metadata": {},
   "outputs": [
    {
     "ename": "FileNotFoundError",
     "evalue": "[Errno 2] No such file or directory: '/Users/marcisin/Downloads/dataset_243_10.txt'",
     "output_type": "error",
     "traceback": [
      "\u001b[0;31m---------------------------------------------------------------------------\u001b[0m",
      "\u001b[0;31mFileNotFoundError\u001b[0m                         Traceback (most recent call last)",
      "\u001b[0;32m<ipython-input-7-893f739abec6>\u001b[0m in \u001b[0;36m<module>\u001b[0;34m\u001b[0m\n\u001b[1;32m      1\u001b[0m \u001b[0mpath\u001b[0m\u001b[0;34m=\u001b[0m\u001b[0;34m\"/Users/marcisin/Downloads/dataset_243_10.txt\"\u001b[0m\u001b[0;34m\u001b[0m\u001b[0m\n\u001b[0;32m----> 2\u001b[0;31m \u001b[0mDPChange_\u001b[0m\u001b[0;34m(\u001b[0m\u001b[0;34m*\u001b[0m\u001b[0mread_change_file\u001b[0m\u001b[0;34m(\u001b[0m\u001b[0mpath\u001b[0m\u001b[0;34m)\u001b[0m\u001b[0;34m)\u001b[0m\u001b[0;34m\u001b[0m\u001b[0m\n\u001b[0m",
      "\u001b[0;32m<ipython-input-4-bb3071a80899>\u001b[0m in \u001b[0;36mread_change_file\u001b[0;34m(path)\u001b[0m\n\u001b[1;32m      1\u001b[0m \u001b[0;32mdef\u001b[0m \u001b[0mread_change_file\u001b[0m\u001b[0;34m(\u001b[0m\u001b[0mpath\u001b[0m\u001b[0;34m)\u001b[0m\u001b[0;34m:\u001b[0m\u001b[0;34m\u001b[0m\u001b[0m\n\u001b[0;32m----> 2\u001b[0;31m     \u001b[0;32mwith\u001b[0m \u001b[0mopen\u001b[0m\u001b[0;34m(\u001b[0m\u001b[0mpath\u001b[0m\u001b[0;34m)\u001b[0m \u001b[0;32mas\u001b[0m \u001b[0mf\u001b[0m\u001b[0;34m:\u001b[0m\u001b[0;34m\u001b[0m\u001b[0m\n\u001b[0m\u001b[1;32m      3\u001b[0m         \u001b[0mmoney\u001b[0m \u001b[0;34m=\u001b[0m \u001b[0mint\u001b[0m\u001b[0;34m(\u001b[0m\u001b[0mf\u001b[0m\u001b[0;34m.\u001b[0m\u001b[0mreadline\u001b[0m\u001b[0;34m(\u001b[0m\u001b[0;34m)\u001b[0m\u001b[0;34m.\u001b[0m\u001b[0mstrip\u001b[0m\u001b[0;34m(\u001b[0m\u001b[0;34m)\u001b[0m\u001b[0;34m)\u001b[0m\u001b[0;34m\u001b[0m\u001b[0m\n\u001b[1;32m      4\u001b[0m         \u001b[0mcoins\u001b[0m \u001b[0;34m=\u001b[0m \u001b[0;34m[\u001b[0m\u001b[0mint\u001b[0m\u001b[0;34m(\u001b[0m\u001b[0mn\u001b[0m\u001b[0;34m)\u001b[0m \u001b[0;32mfor\u001b[0m \u001b[0mn\u001b[0m \u001b[0;32min\u001b[0m \u001b[0mf\u001b[0m\u001b[0;34m.\u001b[0m\u001b[0mreadline\u001b[0m\u001b[0;34m(\u001b[0m\u001b[0;34m)\u001b[0m\u001b[0;34m.\u001b[0m\u001b[0msplit\u001b[0m\u001b[0;34m(\u001b[0m\u001b[0;34m\",\"\u001b[0m\u001b[0;34m)\u001b[0m\u001b[0;34m]\u001b[0m\u001b[0;34m\u001b[0m\u001b[0m\n\u001b[1;32m      5\u001b[0m     \u001b[0;32mreturn\u001b[0m \u001b[0mmoney\u001b[0m\u001b[0;34m,\u001b[0m \u001b[0mcoins\u001b[0m\u001b[0;34m\u001b[0m\u001b[0m\n",
      "\u001b[0;31mFileNotFoundError\u001b[0m: [Errno 2] No such file or directory: '/Users/marcisin/Downloads/dataset_243_10.txt'"
     ]
    }
   ],
   "source": [
    "path=\"/Users/marcisin/Downloads/dataset_243_10.txt\"\n",
    "DPChange_(*read_change_file(path))"
   ]
  },
  {
   "cell_type": "code",
   "execution_count": 8,
   "metadata": {},
   "outputs": [],
   "source": [
    "def DPChange2(money, coins):\n",
    "    \"\"\"\n",
    "    Original version\n",
    "    \"\"\"\n",
    "    # initialize our table with minimal number of coins for that ammount\n",
    "    min_change = [0]\n",
    "    max_coin = max(coins)\n",
    "    for value in range(1,money+1):\n",
    "        min_change.append(float(\"inf\"))\n",
    "        for coin in coins:\n",
    "            if value%max_coin >= coin:\n",
    "                if min_change[-1] > min_change[(value%max_coin-coin)]+1:\n",
    "                    min_change[-1] = min_change[(value%max_coin-coin)]+1\n",
    "        if len(min_change) > max_coin:\n",
    "            del min_change[0]\n",
    "    print(min_change)\n",
    "    return min_change[-1]"
   ]
  },
  {
   "cell_type": "code",
   "execution_count": 9,
   "metadata": {},
   "outputs": [
    {
     "ename": "FileNotFoundError",
     "evalue": "[Errno 2] No such file or directory: '/Users/marcisin/Downloads/dataset_243_10.txt'",
     "output_type": "error",
     "traceback": [
      "\u001b[0;31m---------------------------------------------------------------------------\u001b[0m",
      "\u001b[0;31mFileNotFoundError\u001b[0m                         Traceback (most recent call last)",
      "\u001b[0;32m<ipython-input-9-56444ec0eb07>\u001b[0m in \u001b[0;36m<module>\u001b[0;34m\u001b[0m\n\u001b[1;32m      1\u001b[0m \u001b[0mpath\u001b[0m\u001b[0;34m=\u001b[0m\u001b[0;34m\"/Users/marcisin/Downloads/dataset_243_10.txt\"\u001b[0m\u001b[0;34m\u001b[0m\u001b[0m\n\u001b[0;32m----> 2\u001b[0;31m \u001b[0mDPChange2\u001b[0m\u001b[0;34m(\u001b[0m\u001b[0;34m*\u001b[0m\u001b[0mread_change_file\u001b[0m\u001b[0;34m(\u001b[0m\u001b[0mpath\u001b[0m\u001b[0;34m)\u001b[0m\u001b[0;34m)\u001b[0m\u001b[0;34m\u001b[0m\u001b[0m\n\u001b[0m",
      "\u001b[0;32m<ipython-input-4-bb3071a80899>\u001b[0m in \u001b[0;36mread_change_file\u001b[0;34m(path)\u001b[0m\n\u001b[1;32m      1\u001b[0m \u001b[0;32mdef\u001b[0m \u001b[0mread_change_file\u001b[0m\u001b[0;34m(\u001b[0m\u001b[0mpath\u001b[0m\u001b[0;34m)\u001b[0m\u001b[0;34m:\u001b[0m\u001b[0;34m\u001b[0m\u001b[0m\n\u001b[0;32m----> 2\u001b[0;31m     \u001b[0;32mwith\u001b[0m \u001b[0mopen\u001b[0m\u001b[0;34m(\u001b[0m\u001b[0mpath\u001b[0m\u001b[0;34m)\u001b[0m \u001b[0;32mas\u001b[0m \u001b[0mf\u001b[0m\u001b[0;34m:\u001b[0m\u001b[0;34m\u001b[0m\u001b[0m\n\u001b[0m\u001b[1;32m      3\u001b[0m         \u001b[0mmoney\u001b[0m \u001b[0;34m=\u001b[0m \u001b[0mint\u001b[0m\u001b[0;34m(\u001b[0m\u001b[0mf\u001b[0m\u001b[0;34m.\u001b[0m\u001b[0mreadline\u001b[0m\u001b[0;34m(\u001b[0m\u001b[0;34m)\u001b[0m\u001b[0;34m.\u001b[0m\u001b[0mstrip\u001b[0m\u001b[0;34m(\u001b[0m\u001b[0;34m)\u001b[0m\u001b[0;34m)\u001b[0m\u001b[0;34m\u001b[0m\u001b[0m\n\u001b[1;32m      4\u001b[0m         \u001b[0mcoins\u001b[0m \u001b[0;34m=\u001b[0m \u001b[0;34m[\u001b[0m\u001b[0mint\u001b[0m\u001b[0;34m(\u001b[0m\u001b[0mn\u001b[0m\u001b[0;34m)\u001b[0m \u001b[0;32mfor\u001b[0m \u001b[0mn\u001b[0m \u001b[0;32min\u001b[0m \u001b[0mf\u001b[0m\u001b[0;34m.\u001b[0m\u001b[0mreadline\u001b[0m\u001b[0;34m(\u001b[0m\u001b[0;34m)\u001b[0m\u001b[0;34m.\u001b[0m\u001b[0msplit\u001b[0m\u001b[0;34m(\u001b[0m\u001b[0;34m\",\"\u001b[0m\u001b[0;34m)\u001b[0m\u001b[0;34m]\u001b[0m\u001b[0;34m\u001b[0m\u001b[0m\n\u001b[1;32m      5\u001b[0m     \u001b[0;32mreturn\u001b[0m \u001b[0mmoney\u001b[0m\u001b[0;34m,\u001b[0m \u001b[0mcoins\u001b[0m\u001b[0;34m\u001b[0m\u001b[0m\n",
      "\u001b[0;31mFileNotFoundError\u001b[0m: [Errno 2] No such file or directory: '/Users/marcisin/Downloads/dataset_243_10.txt'"
     ]
    }
   ],
   "source": [
    "path=\"/Users/marcisin/Downloads/dataset_243_10.txt\"\n",
    "DPChange2(*read_change_file(path))"
   ]
  },
  {
   "cell_type": "code",
   "execution_count": 10,
   "metadata": {},
   "outputs": [
    {
     "data": {
      "text/plain": [
       "'\\n ManhattanTourist(n, m, Down, Right)\\n        s0, 0 ← 0\\n        for i ← 1 to n\\n            si, 0 ← si-1, 0 + downi-1, 0\\n        for j ← 1 to m\\n            s0, j ← s0, j−1 + right0, j-1\\n        for i ← 1 to n\\n            for j ← 1 to m\\n                si, j ← max{si - 1, j + downi-1, j, si, j - 1 + righti, j-1}\\n        return sn, m\\n'"
      ]
     },
     "execution_count": 10,
     "metadata": {},
     "output_type": "execute_result"
    }
   ],
   "source": [
    "\"\"\"\n",
    " ManhattanTourist(n, m, Down, Right)\n",
    "        s0, 0 ← 0\n",
    "        for i ← 1 to n\n",
    "            si, 0 ← si-1, 0 + downi-1, 0\n",
    "        for j ← 1 to m\n",
    "            s0, j ← s0, j−1 + right0, j-1\n",
    "        for i ← 1 to n\n",
    "            for j ← 1 to m\n",
    "                si, j ← max{si - 1, j + downi-1, j, si, j - 1 + righti, j-1}\n",
    "        return sn, m\n",
    "\"\"\""
   ]
  },
  {
   "cell_type": "code",
   "execution_count": 11,
   "metadata": {},
   "outputs": [],
   "source": [
    "import numpy as np\n",
    "def manhattanTour(n,m,mat_down,mat_right):\n",
    "    s=np.zeros((n+1,m+1))\n",
    "    for i in range(1,n+1):\n",
    "        s[i][0]=s[i-1][0] + mat_down[i-1][0]\n",
    "    for j in range(1,m+1):\n",
    "        s[0][j]=s[0][j-1] + mat_right[0][j-1]\n",
    "    for i in range(1,n+1):\n",
    "        for j in range(1,m+1):\n",
    "            s[i][j]=max(s[i-1][j]+mat_down[i-1][j], s[i][j-1]+mat_right[i][j-1])\n",
    "    return int(s[n][m])\n"
   ]
  },
  {
   "cell_type": "code",
   "execution_count": 12,
   "metadata": {},
   "outputs": [],
   "source": [
    "def read_manhattan_file(path):\n",
    "    with open(path) as f:\n",
    "        l = [int(i) for i in f.readline().split()]\n",
    "        m_down = []\n",
    "        m_right =[]\n",
    "        line = f.readline().strip()\n",
    "        while line!= \"-\":\n",
    "            m_down.append([int(i) for i in line.split()])\n",
    "            line = f.readline().strip()\n",
    "        while line:\n",
    "            line = f.readline().strip()\n",
    "            m_right.append([int(i) for i in line.split()])\n",
    "            \n",
    "    return l[0],l[1],m_down, m_right\n"
   ]
  },
  {
   "cell_type": "code",
   "execution_count": 13,
   "metadata": {},
   "outputs": [
    {
     "ename": "FileNotFoundError",
     "evalue": "[Errno 2] No such file or directory: '/Users/marcisin/Downloads/02_LongestPathGrid/inputs/test5.txt'",
     "output_type": "error",
     "traceback": [
      "\u001b[0;31m---------------------------------------------------------------------------\u001b[0m",
      "\u001b[0;31mFileNotFoundError\u001b[0m                         Traceback (most recent call last)",
      "\u001b[0;32m<ipython-input-13-6d84c3ccef36>\u001b[0m in \u001b[0;36m<module>\u001b[0;34m\u001b[0m\n\u001b[1;32m      1\u001b[0m \u001b[0mpath\u001b[0m\u001b[0;34m=\u001b[0m\u001b[0;34m\"/Users/marcisin/Downloads/02_LongestPathGrid/inputs/test5.txt\"\u001b[0m\u001b[0;34m\u001b[0m\u001b[0m\n\u001b[0;32m----> 2\u001b[0;31m \u001b[0mn\u001b[0m\u001b[0;34m,\u001b[0m\u001b[0mm\u001b[0m\u001b[0;34m,\u001b[0m\u001b[0mmd\u001b[0m\u001b[0;34m,\u001b[0m\u001b[0mmr\u001b[0m\u001b[0;34m=\u001b[0m\u001b[0mread_manhattan_file\u001b[0m\u001b[0;34m(\u001b[0m\u001b[0mpath\u001b[0m\u001b[0;34m)\u001b[0m\u001b[0;34m\u001b[0m\u001b[0m\n\u001b[0m\u001b[1;32m      3\u001b[0m \u001b[0mmanhattanTour\u001b[0m\u001b[0;34m(\u001b[0m\u001b[0;34m*\u001b[0m\u001b[0mread_manhattan_file\u001b[0m\u001b[0;34m(\u001b[0m\u001b[0mpath\u001b[0m\u001b[0;34m)\u001b[0m\u001b[0;34m)\u001b[0m\u001b[0;34m\u001b[0m\u001b[0m\n",
      "\u001b[0;32m<ipython-input-12-b4134431c119>\u001b[0m in \u001b[0;36mread_manhattan_file\u001b[0;34m(path)\u001b[0m\n\u001b[1;32m      1\u001b[0m \u001b[0;32mdef\u001b[0m \u001b[0mread_manhattan_file\u001b[0m\u001b[0;34m(\u001b[0m\u001b[0mpath\u001b[0m\u001b[0;34m)\u001b[0m\u001b[0;34m:\u001b[0m\u001b[0;34m\u001b[0m\u001b[0m\n\u001b[0;32m----> 2\u001b[0;31m     \u001b[0;32mwith\u001b[0m \u001b[0mopen\u001b[0m\u001b[0;34m(\u001b[0m\u001b[0mpath\u001b[0m\u001b[0;34m)\u001b[0m \u001b[0;32mas\u001b[0m \u001b[0mf\u001b[0m\u001b[0;34m:\u001b[0m\u001b[0;34m\u001b[0m\u001b[0m\n\u001b[0m\u001b[1;32m      3\u001b[0m         \u001b[0ml\u001b[0m \u001b[0;34m=\u001b[0m \u001b[0;34m[\u001b[0m\u001b[0mint\u001b[0m\u001b[0;34m(\u001b[0m\u001b[0mi\u001b[0m\u001b[0;34m)\u001b[0m \u001b[0;32mfor\u001b[0m \u001b[0mi\u001b[0m \u001b[0;32min\u001b[0m \u001b[0mf\u001b[0m\u001b[0;34m.\u001b[0m\u001b[0mreadline\u001b[0m\u001b[0;34m(\u001b[0m\u001b[0;34m)\u001b[0m\u001b[0;34m.\u001b[0m\u001b[0msplit\u001b[0m\u001b[0;34m(\u001b[0m\u001b[0;34m)\u001b[0m\u001b[0;34m]\u001b[0m\u001b[0;34m\u001b[0m\u001b[0m\n\u001b[1;32m      4\u001b[0m         \u001b[0mm_down\u001b[0m \u001b[0;34m=\u001b[0m \u001b[0;34m[\u001b[0m\u001b[0;34m]\u001b[0m\u001b[0;34m\u001b[0m\u001b[0m\n\u001b[1;32m      5\u001b[0m         \u001b[0mm_right\u001b[0m \u001b[0;34m=\u001b[0m\u001b[0;34m[\u001b[0m\u001b[0;34m]\u001b[0m\u001b[0;34m\u001b[0m\u001b[0m\n",
      "\u001b[0;31mFileNotFoundError\u001b[0m: [Errno 2] No such file or directory: '/Users/marcisin/Downloads/02_LongestPathGrid/inputs/test5.txt'"
     ]
    }
   ],
   "source": [
    "path=\"/Users/marcisin/Downloads/02_LongestPathGrid/inputs/test5.txt\"\n",
    "n,m,md,mr=read_manhattan_file(path)\n",
    "manhattanTour(*read_manhattan_file(path))"
   ]
  },
  {
   "cell_type": "code",
   "execution_count": 14,
   "metadata": {},
   "outputs": [
    {
     "ename": "FileNotFoundError",
     "evalue": "[Errno 2] No such file or directory: '/Users/marcisin/Downloads/dataset_261_10 (1).txt'",
     "output_type": "error",
     "traceback": [
      "\u001b[0;31m---------------------------------------------------------------------------\u001b[0m",
      "\u001b[0;31mFileNotFoundError\u001b[0m                         Traceback (most recent call last)",
      "\u001b[0;32m<ipython-input-14-5be68b72a27d>\u001b[0m in \u001b[0;36m<module>\u001b[0;34m\u001b[0m\n\u001b[1;32m      1\u001b[0m \u001b[0;34m\"\"\"solve\"\"\"\u001b[0m\u001b[0;34m\u001b[0m\u001b[0m\n\u001b[1;32m      2\u001b[0m \u001b[0mpath\u001b[0m\u001b[0;34m=\u001b[0m\u001b[0;34m\"/Users/marcisin/Downloads/dataset_261_10 (1).txt\"\u001b[0m\u001b[0;34m\u001b[0m\u001b[0m\n\u001b[0;32m----> 3\u001b[0;31m \u001b[0mn\u001b[0m\u001b[0;34m,\u001b[0m\u001b[0mm\u001b[0m\u001b[0;34m,\u001b[0m\u001b[0mmd\u001b[0m\u001b[0;34m,\u001b[0m\u001b[0mmr\u001b[0m\u001b[0;34m=\u001b[0m\u001b[0mread_manhattan_file\u001b[0m\u001b[0;34m(\u001b[0m\u001b[0mpath\u001b[0m\u001b[0;34m)\u001b[0m\u001b[0;34m\u001b[0m\u001b[0m\n\u001b[0m\u001b[1;32m      4\u001b[0m \u001b[0mmanhattanTour\u001b[0m\u001b[0;34m(\u001b[0m\u001b[0;34m*\u001b[0m\u001b[0mread_manhattan_file\u001b[0m\u001b[0;34m(\u001b[0m\u001b[0mpath\u001b[0m\u001b[0;34m)\u001b[0m\u001b[0;34m)\u001b[0m\u001b[0;34m\u001b[0m\u001b[0m\n",
      "\u001b[0;32m<ipython-input-12-b4134431c119>\u001b[0m in \u001b[0;36mread_manhattan_file\u001b[0;34m(path)\u001b[0m\n\u001b[1;32m      1\u001b[0m \u001b[0;32mdef\u001b[0m \u001b[0mread_manhattan_file\u001b[0m\u001b[0;34m(\u001b[0m\u001b[0mpath\u001b[0m\u001b[0;34m)\u001b[0m\u001b[0;34m:\u001b[0m\u001b[0;34m\u001b[0m\u001b[0m\n\u001b[0;32m----> 2\u001b[0;31m     \u001b[0;32mwith\u001b[0m \u001b[0mopen\u001b[0m\u001b[0;34m(\u001b[0m\u001b[0mpath\u001b[0m\u001b[0;34m)\u001b[0m \u001b[0;32mas\u001b[0m \u001b[0mf\u001b[0m\u001b[0;34m:\u001b[0m\u001b[0;34m\u001b[0m\u001b[0m\n\u001b[0m\u001b[1;32m      3\u001b[0m         \u001b[0ml\u001b[0m \u001b[0;34m=\u001b[0m \u001b[0;34m[\u001b[0m\u001b[0mint\u001b[0m\u001b[0;34m(\u001b[0m\u001b[0mi\u001b[0m\u001b[0;34m)\u001b[0m \u001b[0;32mfor\u001b[0m \u001b[0mi\u001b[0m \u001b[0;32min\u001b[0m \u001b[0mf\u001b[0m\u001b[0;34m.\u001b[0m\u001b[0mreadline\u001b[0m\u001b[0;34m(\u001b[0m\u001b[0;34m)\u001b[0m\u001b[0;34m.\u001b[0m\u001b[0msplit\u001b[0m\u001b[0;34m(\u001b[0m\u001b[0;34m)\u001b[0m\u001b[0;34m]\u001b[0m\u001b[0;34m\u001b[0m\u001b[0m\n\u001b[1;32m      4\u001b[0m         \u001b[0mm_down\u001b[0m \u001b[0;34m=\u001b[0m \u001b[0;34m[\u001b[0m\u001b[0;34m]\u001b[0m\u001b[0;34m\u001b[0m\u001b[0m\n\u001b[1;32m      5\u001b[0m         \u001b[0mm_right\u001b[0m \u001b[0;34m=\u001b[0m\u001b[0;34m[\u001b[0m\u001b[0;34m]\u001b[0m\u001b[0;34m\u001b[0m\u001b[0m\n",
      "\u001b[0;31mFileNotFoundError\u001b[0m: [Errno 2] No such file or directory: '/Users/marcisin/Downloads/dataset_261_10 (1).txt'"
     ]
    }
   ],
   "source": [
    "\"\"\"solve\"\"\"\n",
    "path=\"/Users/marcisin/Downloads/dataset_261_10 (1).txt\"\n",
    "n,m,md,mr=read_manhattan_file(path)\n",
    "manhattanTour(*read_manhattan_file(path))"
   ]
  },
  {
   "cell_type": "code",
   "execution_count": 15,
   "metadata": {},
   "outputs": [
    {
     "data": {
      "text/plain": [
       "'\\n LCSBackTrack(v, w)\\n        for i ← 0 to |v|\\n            si, 0 ← 0\\n        for j ← 0 to |w| \\n            s0, j ← 0\\n        for i ← 1 to |v|\\n            for j ← 1 to |w|\\n                match ← 0\\n                if vi-1 = wj-1\\n                    match ← 1\\n                si, j ← max{si-1, j , si,j-1 , si-1, j-1 + match }\\n                if si,j = si-1,j\\n                    Backtracki, j ← \"↓\"\\n                else if si, j = si, j-1\\n                    Backtracki, j ← \"→\"\\n                else if si, j = si-1, j-1 + match\\n                    Backtracki, j ← \"↘\"\\n        return Backtrack\\n'"
      ]
     },
     "execution_count": 15,
     "metadata": {},
     "output_type": "execute_result"
    }
   ],
   "source": [
    "\"\"\"\n",
    " LCSBackTrack(v, w)\n",
    "        for i ← 0 to |v|\n",
    "            si, 0 ← 0\n",
    "        for j ← 0 to |w| \n",
    "            s0, j ← 0\n",
    "        for i ← 1 to |v|\n",
    "            for j ← 1 to |w|\n",
    "                match ← 0\n",
    "                if vi-1 = wj-1\n",
    "                    match ← 1\n",
    "                si, j ← max{si-1, j , si,j-1 , si-1, j-1 + match }\n",
    "                if si,j = si-1,j\n",
    "                    Backtracki, j ← \"↓\"\n",
    "                else if si, j = si, j-1\n",
    "                    Backtracki, j ← \"→\"\n",
    "                else if si, j = si-1, j-1 + match\n",
    "                    Backtracki, j ← \"↘\"\n",
    "        return Backtrack\n",
    "\"\"\""
   ]
  },
  {
   "cell_type": "code",
   "execution_count": 16,
   "metadata": {},
   "outputs": [],
   "source": [
    "def create_graph(seq1, seq2):\n",
    "    \"\"\"\n",
    "    seq1 -> represents rowumn\n",
    "    seq2 -> represents col\n",
    "    \"\"\"\n",
    "    match_graph = [ [0 for row in range(len(seq2)+1)] for col in range(len(seq1)+1)]\n",
    "    bt_graph = [ [\"-\" for row in range(len(seq2)+1)] for col in range(len(seq1)+1)]\n",
    "    for row in range(1, len(seq1)+1):\n",
    "        for col in range(1, len(seq2)+1):\n",
    "            if seq1[row-1] == seq2[col-1]:\n",
    "                match = 1\n",
    "            else:\n",
    "                match = 0\n",
    "            match_graph[row][col] = max(match_graph[row-1][col], match_graph[row][col-1], match_graph[row-1][col-1]+match)\n",
    "            if match_graph[row][col] == match_graph[row-1][col]:\n",
    "                bt_graph[row][col] = \"D\"\n",
    "            elif match_graph[row][col] == match_graph[row][col-1]:\n",
    "                bt_graph[row][col] = \"R\"\n",
    "            elif match_graph[row][col] == match_graph[row-1][col-1]+match:\n",
    "                bt_graph[row][col] = \"DG\"\n",
    "    return bt_graph\n",
    "            \n",
    "            "
   ]
  },
  {
   "cell_type": "code",
   "execution_count": 17,
   "metadata": {},
   "outputs": [
    {
     "data": {
      "text/plain": [
       "[['-', '-', '-', '-', '-', '-', '-'],\n",
       " ['-', 'D', 'D', 'DG', 'R', 'R', 'R'],\n",
       " ['-', 'DG', 'R', 'D', 'D', 'DG', 'R'],\n",
       " ['-', 'D', 'D', 'DG', 'R', 'D', 'DG'],\n",
       " ['-', 'D', 'D', 'D', 'DG', 'R', 'D'],\n",
       " ['-', 'D', 'DG', 'D', 'D', 'D', 'D'],\n",
       " ['-', 'D', 'D', 'D', 'D', 'DG', 'R']]"
      ]
     },
     "execution_count": 17,
     "metadata": {},
     "output_type": "execute_result"
    }
   ],
   "source": [
    "s1=\"GCGATC\"\n",
    "s2=\"CTGACG\"\n",
    "create_graph(s1,s2)"
   ]
  },
  {
   "cell_type": "code",
   "execution_count": 18,
   "metadata": {},
   "outputs": [
    {
     "data": {
      "text/plain": [
       "'\\nOutputLCS(backtrack, v, i, j)\\n        if i = 0 or j = 0\\n            return \"\"\\n        if backtracki, j = \"↓\"\\n            return OutputLCS(backtrack, v, i - 1, j)\\n        else if backtracki, j = \"→\"\\n            return OutputLCS(backtrack, v, i, j - 1)\\n        else\\n            return OutputLCS(backtrack, v, i - 1, j - 1) + vi\\n'"
      ]
     },
     "execution_count": 18,
     "metadata": {},
     "output_type": "execute_result"
    }
   ],
   "source": [
    "\"\"\"\n",
    "OutputLCS(backtrack, v, i, j)\n",
    "        if i = 0 or j = 0\n",
    "            return \"\"\n",
    "        if backtracki, j = \"↓\"\n",
    "            return OutputLCS(backtrack, v, i - 1, j)\n",
    "        else if backtracki, j = \"→\"\n",
    "            return OutputLCS(backtrack, v, i, j - 1)\n",
    "        else\n",
    "            return OutputLCS(backtrack, v, i - 1, j - 1) + vi\n",
    "\"\"\""
   ]
  },
  {
   "cell_type": "code",
   "execution_count": 19,
   "metadata": {},
   "outputs": [],
   "source": [
    "def parse_bt_graph(bt_graph, seq, col, row):\n",
    "    if col == 0 or row == 0:\n",
    "        return \"\"\n",
    "    if bt_graph[col][row]==\"D\":\n",
    "        return parse_bt_graph(bt_graph,seq,col-1,row)\n",
    "    elif bt_graph[col][row]==\"R\":\n",
    "        return parse_bt_graph(bt_graph,seq,col,row-1)\n",
    "    elif bt_graph[col][row]==\"DG\":\n",
    "        return parse_bt_graph(bt_graph,seq,col-1,row-1) + seq[col]"
   ]
  },
  {
   "cell_type": "code",
   "execution_count": 20,
   "metadata": {},
   "outputs": [
    {
     "data": {
      "text/plain": [
       "'ACCTGG'"
      ]
     },
     "execution_count": 20,
     "metadata": {},
     "output_type": "execute_result"
    }
   ],
   "source": [
    "s1=\"AACCTTGG\"\n",
    "s2=\"ACACTGTGA\"\n",
    "g = create_graph(s1,s2)\n",
    "parse_bt_graph(g,s1,len(s1)-1,len(s2)-1)"
   ]
  },
  {
   "cell_type": "code",
   "execution_count": 21,
   "metadata": {},
   "outputs": [],
   "source": [
    "def read_seq_file(path):\n",
    "    with open(path) as f:\n",
    "        seq1 = f.readline().strip()\n",
    "        seq2 = f.readline().strip()\n",
    "    return seq1, seq2"
   ]
  },
  {
   "cell_type": "code",
   "execution_count": 22,
   "metadata": {},
   "outputs": [
    {
     "ename": "FileNotFoundError",
     "evalue": "[Errno 2] No such file or directory: '/Users/marcisin/Downloads/dataset_245_5 (5).txt'",
     "output_type": "error",
     "traceback": [
      "\u001b[0;31m---------------------------------------------------------------------------\u001b[0m",
      "\u001b[0;31mFileNotFoundError\u001b[0m                         Traceback (most recent call last)",
      "\u001b[0;32m<ipython-input-22-5ee45b7e25b3>\u001b[0m in \u001b[0;36m<module>\u001b[0;34m\u001b[0m\n\u001b[1;32m      2\u001b[0m \u001b[0msys\u001b[0m\u001b[0;34m.\u001b[0m\u001b[0msetrecursionlimit\u001b[0m\u001b[0;34m(\u001b[0m\u001b[0;36m1500\u001b[0m\u001b[0;34m)\u001b[0m\u001b[0;34m\u001b[0m\u001b[0m\n\u001b[1;32m      3\u001b[0m \u001b[0mpath\u001b[0m\u001b[0;34m=\u001b[0m\u001b[0;34m\"/Users/marcisin/Downloads/dataset_245_5 (5).txt\"\u001b[0m\u001b[0;34m\u001b[0m\u001b[0m\n\u001b[0;32m----> 4\u001b[0;31m \u001b[0ms_1\u001b[0m\u001b[0;34m,\u001b[0m \u001b[0ms_2\u001b[0m \u001b[0;34m=\u001b[0m\u001b[0mread_seq_file\u001b[0m\u001b[0;34m(\u001b[0m\u001b[0mpath\u001b[0m\u001b[0;34m)\u001b[0m\u001b[0;34m\u001b[0m\u001b[0m\n\u001b[0m\u001b[1;32m      5\u001b[0m \u001b[0mg\u001b[0m \u001b[0;34m=\u001b[0m \u001b[0mcreate_graph\u001b[0m\u001b[0;34m(\u001b[0m\u001b[0ms_1\u001b[0m\u001b[0;34m,\u001b[0m \u001b[0ms_2\u001b[0m\u001b[0;34m)\u001b[0m\u001b[0;34m\u001b[0m\u001b[0m\n\u001b[1;32m      6\u001b[0m \u001b[0mparse_bt_graph\u001b[0m\u001b[0;34m(\u001b[0m\u001b[0mg\u001b[0m\u001b[0;34m,\u001b[0m\u001b[0ms_1\u001b[0m\u001b[0;34m,\u001b[0m\u001b[0mlen\u001b[0m\u001b[0;34m(\u001b[0m\u001b[0ms_1\u001b[0m\u001b[0;34m)\u001b[0m\u001b[0;34m-\u001b[0m\u001b[0;36m1\u001b[0m\u001b[0;34m,\u001b[0m\u001b[0mlen\u001b[0m\u001b[0;34m(\u001b[0m\u001b[0ms_2\u001b[0m\u001b[0;34m)\u001b[0m\u001b[0;34m-\u001b[0m\u001b[0;36m1\u001b[0m\u001b[0;34m)\u001b[0m\u001b[0;34m\u001b[0m\u001b[0m\n",
      "\u001b[0;32m<ipython-input-21-ab7bcade989c>\u001b[0m in \u001b[0;36mread_seq_file\u001b[0;34m(path)\u001b[0m\n\u001b[1;32m      1\u001b[0m \u001b[0;32mdef\u001b[0m \u001b[0mread_seq_file\u001b[0m\u001b[0;34m(\u001b[0m\u001b[0mpath\u001b[0m\u001b[0;34m)\u001b[0m\u001b[0;34m:\u001b[0m\u001b[0;34m\u001b[0m\u001b[0m\n\u001b[0;32m----> 2\u001b[0;31m     \u001b[0;32mwith\u001b[0m \u001b[0mopen\u001b[0m\u001b[0;34m(\u001b[0m\u001b[0mpath\u001b[0m\u001b[0;34m)\u001b[0m \u001b[0;32mas\u001b[0m \u001b[0mf\u001b[0m\u001b[0;34m:\u001b[0m\u001b[0;34m\u001b[0m\u001b[0m\n\u001b[0m\u001b[1;32m      3\u001b[0m         \u001b[0mseq1\u001b[0m \u001b[0;34m=\u001b[0m \u001b[0mf\u001b[0m\u001b[0;34m.\u001b[0m\u001b[0mreadline\u001b[0m\u001b[0;34m(\u001b[0m\u001b[0;34m)\u001b[0m\u001b[0;34m.\u001b[0m\u001b[0mstrip\u001b[0m\u001b[0;34m(\u001b[0m\u001b[0;34m)\u001b[0m\u001b[0;34m\u001b[0m\u001b[0m\n\u001b[1;32m      4\u001b[0m         \u001b[0mseq2\u001b[0m \u001b[0;34m=\u001b[0m \u001b[0mf\u001b[0m\u001b[0;34m.\u001b[0m\u001b[0mreadline\u001b[0m\u001b[0;34m(\u001b[0m\u001b[0;34m)\u001b[0m\u001b[0;34m.\u001b[0m\u001b[0mstrip\u001b[0m\u001b[0;34m(\u001b[0m\u001b[0;34m)\u001b[0m\u001b[0;34m\u001b[0m\u001b[0m\n\u001b[1;32m      5\u001b[0m     \u001b[0;32mreturn\u001b[0m \u001b[0mseq1\u001b[0m\u001b[0;34m,\u001b[0m \u001b[0mseq2\u001b[0m\u001b[0;34m\u001b[0m\u001b[0m\n",
      "\u001b[0;31mFileNotFoundError\u001b[0m: [Errno 2] No such file or directory: '/Users/marcisin/Downloads/dataset_245_5 (5).txt'"
     ]
    }
   ],
   "source": [
    "import sys\n",
    "sys.setrecursionlimit(1500)\n",
    "path=\"/Users/marcisin/Downloads/dataset_245_5 (5).txt\"\n",
    "s_1, s_2 =read_seq_file(path)\n",
    "g = create_graph(s_1, s_2)\n",
    "parse_bt_graph(g,s_1,len(s_1)-1,len(s_2)-1)"
   ]
  },
  {
   "cell_type": "code",
   "execution_count": 23,
   "metadata": {},
   "outputs": [],
   "source": [
    "def parse_while(backtrack,v,i,j):\n",
    "    LCS=\"\"\n",
    "    while i > 0 and j > 0:\n",
    "        if backtrack[i][j] == \"DG\":\n",
    "            LCS+=v[i-1]\n",
    "            i = i-1\n",
    "            j = j-1\n",
    "        elif backtrack[i][j] == \"D\":\n",
    "            i = i-1\n",
    "        else:\n",
    "            j = j-1\n",
    "    return LCS[::-1]"
   ]
  },
  {
   "cell_type": "code",
   "execution_count": 24,
   "metadata": {},
   "outputs": [
    {
     "ename": "NameError",
     "evalue": "name 's_1' is not defined",
     "output_type": "error",
     "traceback": [
      "\u001b[0;31m---------------------------------------------------------------------------\u001b[0m",
      "\u001b[0;31mNameError\u001b[0m                                 Traceback (most recent call last)",
      "\u001b[0;32m<ipython-input-24-05cae845a4dd>\u001b[0m in \u001b[0;36m<module>\u001b[0;34m\u001b[0m\n\u001b[1;32m      1\u001b[0m \u001b[0;34m\u001b[0m\u001b[0m\n\u001b[0;32m----> 2\u001b[0;31m \u001b[0mprint\u001b[0m\u001b[0;34m(\u001b[0m\u001b[0mstr\u001b[0m\u001b[0;34m(\u001b[0m\u001b[0mparse_while\u001b[0m\u001b[0;34m(\u001b[0m\u001b[0mg\u001b[0m\u001b[0;34m,\u001b[0m\u001b[0ms_1\u001b[0m\u001b[0;34m,\u001b[0m\u001b[0mlen\u001b[0m\u001b[0;34m(\u001b[0m\u001b[0ms_1\u001b[0m\u001b[0;34m)\u001b[0m\u001b[0;34m-\u001b[0m\u001b[0;36m1\u001b[0m\u001b[0;34m,\u001b[0m\u001b[0mlen\u001b[0m\u001b[0;34m(\u001b[0m\u001b[0ms_2\u001b[0m\u001b[0;34m)\u001b[0m\u001b[0;34m-\u001b[0m\u001b[0;36m1\u001b[0m\u001b[0;34m)\u001b[0m\u001b[0;34m)\u001b[0m\u001b[0;34m)\u001b[0m\u001b[0;34m\u001b[0m\u001b[0m\n\u001b[0m",
      "\u001b[0;31mNameError\u001b[0m: name 's_1' is not defined"
     ]
    }
   ],
   "source": [
    "\n",
    "print(str(parse_while(g,s_1,len(s_1)-1,len(s_2)-1)))"
   ]
  },
  {
   "cell_type": "code",
   "execution_count": 25,
   "metadata": {},
   "outputs": [],
   "source": [
    "def check_key(key, dictionary, default_val = 0):\n",
    "    if key in dictionary.keys():\n",
    "        return dictionary\n",
    "    else:\n",
    "        dictionary[key] = default_val\n",
    "        return dictionary\n",
    "\n",
    "def longestPathDAG(start, end, edges):\n",
    "    distances = {}\n",
    "    prev = {}\n",
    "    for edge in edges:\n",
    "        n_from = edge.split(\"->\")[0]\n",
    "        n_to = edge.split(\"->\")[1].split(\":\")[0]\n",
    "        cost = int(edge.split(\"->\")[1].split(\":\")[1])\n",
    "        distances = check_key(n_from, distances)\n",
    "        distances = check_key(n_to, distances)\n",
    "        \n",
    "        prev = check_key(n_from, prev, \"\")\n",
    "        prev = check_key(n_to, prev, \"\")\n",
    "        # after the first end we have condition, that we are checking if the path is continuos from start\n",
    "        # edges are comming in topological order\n",
    "        # thus if they are descendants from start node they must have previos from node \n",
    "        # or the edge can be the start node\n",
    "        # other we disregard as they are not descendants of start -> does not connect source and sink node\n",
    "        if distances[n_to] < distances[n_from]+cost and ( (n_from!=start and prev[n_from]!= \"\") or n_from==start):\n",
    "            distances[n_to] = distances[n_from]+cost\n",
    "            prev[n_to] = n_from\n",
    "    ## backtrack path\n",
    "    p = end\n",
    "    path = []\n",
    "    while p:\n",
    "        path.append(p)\n",
    "        p = prev[p]\n",
    "    \n",
    "    print(\"->\".join(reversed(path)))\n",
    "    return distances[end]\n",
    "            \n",
    "        "
   ]
  },
  {
   "cell_type": "code",
   "execution_count": 26,
   "metadata": {},
   "outputs": [],
   "source": [
    "def read_dist_file(path):\n",
    "    with open(path) as f:   \n",
    "        start = f.readline().strip()\n",
    "        end = f.readline().strip()\n",
    "        lines = [l.strip() for l in f.readlines()]\n",
    "    return start, end, lines"
   ]
  },
  {
   "cell_type": "code",
   "execution_count": 27,
   "metadata": {},
   "outputs": [
    {
     "ename": "FileNotFoundError",
     "evalue": "[Errno 2] No such file or directory: '/Users/marcisin/Downloads/dataset_245_7 (2).txt'",
     "output_type": "error",
     "traceback": [
      "\u001b[0;31m---------------------------------------------------------------------------\u001b[0m",
      "\u001b[0;31mFileNotFoundError\u001b[0m                         Traceback (most recent call last)",
      "\u001b[0;32m<ipython-input-27-e4c1f51c0954>\u001b[0m in \u001b[0;36m<module>\u001b[0;34m\u001b[0m\n\u001b[1;32m      1\u001b[0m \u001b[0mpath\u001b[0m\u001b[0;34m=\u001b[0m\u001b[0;34m\"/Users/marcisin/Downloads/dataset_245_7 (2).txt\"\u001b[0m\u001b[0;34m\u001b[0m\u001b[0m\n\u001b[1;32m      2\u001b[0m \u001b[0;31m# path = \"/Users/marcisin/Downloads/sample.txt\"\u001b[0m\u001b[0;34m\u001b[0m\u001b[0;34m\u001b[0m\u001b[0m\n\u001b[0;32m----> 3\u001b[0;31m \u001b[0mlongestPathDAG\u001b[0m\u001b[0;34m(\u001b[0m\u001b[0;34m*\u001b[0m\u001b[0mread_dist_file\u001b[0m\u001b[0;34m(\u001b[0m\u001b[0mpath\u001b[0m\u001b[0;34m)\u001b[0m\u001b[0;34m)\u001b[0m\u001b[0;34m\u001b[0m\u001b[0m\n\u001b[0m",
      "\u001b[0;32m<ipython-input-26-25822d3328de>\u001b[0m in \u001b[0;36mread_dist_file\u001b[0;34m(path)\u001b[0m\n\u001b[1;32m      1\u001b[0m \u001b[0;32mdef\u001b[0m \u001b[0mread_dist_file\u001b[0m\u001b[0;34m(\u001b[0m\u001b[0mpath\u001b[0m\u001b[0;34m)\u001b[0m\u001b[0;34m:\u001b[0m\u001b[0;34m\u001b[0m\u001b[0m\n\u001b[0;32m----> 2\u001b[0;31m     \u001b[0;32mwith\u001b[0m \u001b[0mopen\u001b[0m\u001b[0;34m(\u001b[0m\u001b[0mpath\u001b[0m\u001b[0;34m)\u001b[0m \u001b[0;32mas\u001b[0m \u001b[0mf\u001b[0m\u001b[0;34m:\u001b[0m\u001b[0;34m\u001b[0m\u001b[0m\n\u001b[0m\u001b[1;32m      3\u001b[0m         \u001b[0mstart\u001b[0m \u001b[0;34m=\u001b[0m \u001b[0mf\u001b[0m\u001b[0;34m.\u001b[0m\u001b[0mreadline\u001b[0m\u001b[0;34m(\u001b[0m\u001b[0;34m)\u001b[0m\u001b[0;34m.\u001b[0m\u001b[0mstrip\u001b[0m\u001b[0;34m(\u001b[0m\u001b[0;34m)\u001b[0m\u001b[0;34m\u001b[0m\u001b[0m\n\u001b[1;32m      4\u001b[0m         \u001b[0mend\u001b[0m \u001b[0;34m=\u001b[0m \u001b[0mf\u001b[0m\u001b[0;34m.\u001b[0m\u001b[0mreadline\u001b[0m\u001b[0;34m(\u001b[0m\u001b[0;34m)\u001b[0m\u001b[0;34m.\u001b[0m\u001b[0mstrip\u001b[0m\u001b[0;34m(\u001b[0m\u001b[0;34m)\u001b[0m\u001b[0;34m\u001b[0m\u001b[0m\n\u001b[1;32m      5\u001b[0m         \u001b[0mlines\u001b[0m \u001b[0;34m=\u001b[0m \u001b[0;34m[\u001b[0m\u001b[0ml\u001b[0m\u001b[0;34m.\u001b[0m\u001b[0mstrip\u001b[0m\u001b[0;34m(\u001b[0m\u001b[0;34m)\u001b[0m \u001b[0;32mfor\u001b[0m \u001b[0ml\u001b[0m \u001b[0;32min\u001b[0m \u001b[0mf\u001b[0m\u001b[0;34m.\u001b[0m\u001b[0mreadlines\u001b[0m\u001b[0;34m(\u001b[0m\u001b[0;34m)\u001b[0m\u001b[0;34m]\u001b[0m\u001b[0;34m\u001b[0m\u001b[0m\n",
      "\u001b[0;31mFileNotFoundError\u001b[0m: [Errno 2] No such file or directory: '/Users/marcisin/Downloads/dataset_245_7 (2).txt'"
     ]
    }
   ],
   "source": [
    "path=\"/Users/marcisin/Downloads/dataset_245_7 (2).txt\"\n",
    "# path = \"/Users/marcisin/Downloads/sample.txt\"\n",
    "longestPathDAG(*read_dist_file(path))"
   ]
  },
  {
   "cell_type": "code",
   "execution_count": 28,
   "metadata": {},
   "outputs": [
    {
     "data": {
      "text/plain": [
       "'GTAG'"
      ]
     },
     "execution_count": 28,
     "metadata": {},
     "output_type": "execute_result"
    }
   ],
   "source": [
    "#Test\n",
    "s1=\"TGTACG\"\n",
    "s2=\"GCTAGT\"\n",
    "g=create_graph(s1,s2)\n",
    "parse_while(g,s1,len(s1),len(s2))"
   ]
  },
  {
   "cell_type": "code",
   "execution_count": 29,
   "metadata": {},
   "outputs": [
    {
     "name": "stdout",
     "output_type": "stream",
     "text": [
      "39916800\n"
     ]
    }
   ],
   "source": [
    "my_list = [2,3]\n",
    "import itertools\n",
    "res= []\n",
    "import math\n",
    "val = 23\n",
    "m = math.floor(23/2)\n",
    "for i in range(m):\n",
    "    my_list=[2 for _ in range(i)]\n",
    "    my_list.extend([3 for _ in range(m-i)])\n",
    "#     print(my_list)\n",
    "    if sum(my_list) == val:\n",
    "        for perm in itertools.permutations(my_list):\n",
    "            if sum(perm)==23:\n",
    "#                 print(perm)\n",
    "                res.append(perm)\n",
    "print(len(res))"
   ]
  },
  {
   "cell_type": "code",
   "execution_count": null,
   "metadata": {},
   "outputs": [],
   "source": []
  }
 ],
 "metadata": {
  "kernelspec": {
   "display_name": "Python 3",
   "language": "python",
   "name": "python3"
  },
  "language_info": {
   "codemirror_mode": {
    "name": "ipython",
    "version": 3
   },
   "file_extension": ".py",
   "mimetype": "text/x-python",
   "name": "python",
   "nbconvert_exporter": "python",
   "pygments_lexer": "ipython3",
   "version": "3.7.3"
  }
 },
 "nbformat": 4,
 "nbformat_minor": 2
}
