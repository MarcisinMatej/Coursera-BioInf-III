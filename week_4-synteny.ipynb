{
 "cells": [
  {
   "cell_type": "code",
   "execution_count": 40,
   "metadata": {},
   "outputs": [],
   "source": [
    "def chromosome_to_cycle(chromosome):\n",
    "    \"\"\"\n",
    "    Input: A chromosome Chromosome containing n synteny blocks.\n",
    "    Output: The sequence Nodes of integers between 1 and 2n resulting from applying ChromosomeToCycle to Chromosome.\n",
    "    \"\"\"\n",
    "    nodes = []\n",
    "    for block in chromosome:\n",
    "        i = abs(block)-1\n",
    "        if block < 0:\n",
    "            nodes.extend([2*i+2, 2*i+1])\n",
    "        else:\n",
    "            nodes.extend([2*i+1, 2*i+2])\n",
    "    return nodes\n",
    "\n",
    "def format_cycle(nodes):\n",
    "    return \"(\" + \" \".join([str(_) for _ in nodes]) + \")\"\n"
   ]
  },
  {
   "cell_type": "code",
   "execution_count": 41,
   "metadata": {},
   "outputs": [
    {
     "name": "stdout",
     "output_type": "stream",
     "text": [
      "(1 2 4 3 6 5 7 8)\n",
      "None\n"
     ]
    }
   ],
   "source": [
    "tst = [1,-2,-3,4]\n",
    "print(print_cycle(chromosome_to_cycle(tst)))"
   ]
  },
  {
   "cell_type": "code",
   "execution_count": 15,
   "metadata": {},
   "outputs": [],
   "source": [
    "def cycle_to_chromosome(nodes):\n",
    "    chromosomes = []\n",
    "    for i in range(int(len(nodes)/2)):\n",
    "        # +1 because we want to have chromosomes numbered from 1, not from 0\n",
    "        if nodes[i*2] < nodes[i*2+1]:\n",
    "            chromosomes.append(i+1)\n",
    "        else:\n",
    "            chromosomes.append(-(i+1))\n",
    "    return chromosomes\n",
    "\n",
    "def format_chromosome(arr):\n",
    "    to_print=[]\n",
    "    for i in arr:\n",
    "        if i< 0 :\n",
    "            to_print.append(str(i))\n",
    "        else:\n",
    "            to_print.append(\"+\"+str(i))\n",
    "    return \"(\" + \" \".join(to_print)+ \")\""
   ]
  },
  {
   "cell_type": "code",
   "execution_count": 22,
   "metadata": {},
   "outputs": [
    {
     "name": "stdout",
     "output_type": "stream",
     "text": [
      "(+1 -2 -3 +4)\n"
     ]
    }
   ],
   "source": [
    "tst = [1, 2, 4, 3, 6, 5, 7, 8]\n",
    "print(print_chromosomes(cycle_to_chromosome(tst)))"
   ]
  },
  {
   "cell_type": "code",
   "execution_count": 53,
   "metadata": {},
   "outputs": [],
   "source": [
    "def parse_chromosome_inputs(ch_str):\n",
    "    chroms = []\n",
    "    for tmp_chrom in ch_str.split(\")\"):\n",
    "        if tmp_chrom:\n",
    "            chroms.append([int(ch) for ch in tmp_chrom.replace(\"(\",\"\").split()])\n",
    "    return chroms\n",
    "\n",
    "def coloroed_edges(b_cycles):\n",
    "    \"\"\"\n",
    "    b as black\n",
    "    \"\"\"\n",
    "    colored_cycles = []\n",
    "    for bc in b_cycles:\n",
    "        red_c = chromosome_to_cycle(bc)\n",
    "        # need to reorder a bit\n",
    "        red_c.append(red_c[0])\n",
    "        del red_c[0]\n",
    "        colored_cycles.append(to_tuples(red_c))\n",
    "    return colored_cycles\n",
    "\n",
    "def to_tuples(arr):\n",
    "    tupples = []\n",
    "    for i in range(int(len(arr)/2)):\n",
    "        tupples.append((arr[2*i],arr[2*i+1]))\n",
    "    return tupples"
   ]
  },
  {
   "cell_type": "code",
   "execution_count": 54,
   "metadata": {},
   "outputs": [
    {
     "data": {
      "text/plain": [
       "[[(2, 4), (3, 6), (5, 1)], [(8, 9), (10, 12), (11, 7)]]"
      ]
     },
     "execution_count": 54,
     "metadata": {},
     "output_type": "execute_result"
    }
   ],
   "source": [
    "t = \"(+1 -2 -3)(+4 +5 -6)\"\n",
    "coloroed_edges(parse_chromosome_inputs(t))"
   ]
  },
  {
   "cell_type": "code",
   "execution_count": 17,
   "metadata": {},
   "outputs": [],
   "source": [
    "def GraphToGenome(graph):\n",
    "    converted = parse_graph_string(graph)\n",
    "    cycles = identify_cycle(converted)\n",
    "    chroms = []\n",
    "    for cyc in cycles:\n",
    "        sequence = cycle_to_sequence(cyc)\n",
    "        chroms.append(sequence_to_chrom(sequence))\n",
    "    return chroms\n",
    "\n",
    "def parse_graph_string(string):\n",
    "    to_ret = []\n",
    "    tmp = string.replace(\"(\",\"\").replace(\",\",\"\")\n",
    "    for tup in tmp.split(\")\"):\n",
    "        if tup:\n",
    "            tupple = (int(tup.split()[0]), int(tup.split()[1]))\n",
    "            to_ret.append(tupple)\n",
    "    return to_ret\n",
    "\n",
    "def identify_cycle(tupples):\n",
    "    cycles = []\n",
    "    tmp_cyc = []\n",
    "    l = len(tupples)\n",
    "    for i in range(len(tupples)):\n",
    "        _this = i\n",
    "        _next = (i+1)%l \n",
    "        if abs(tupples[_this][1] - tupples[_next][0]) > 1:\n",
    "            # new cycle\n",
    "            tmp_cyc.append(tupples[_this])\n",
    "            cycles.append(tmp_cyc)\n",
    "            tmp_cyc = []\n",
    "        else:\n",
    "            tmp_cyc.append(tupples[_this])\n",
    "    return cycles\n",
    "\n",
    "def cycle_to_sequence(tupps):\n",
    "    \"\"\"\n",
    "    (2, 4), (3, 6), (5, 1) -> [1, 2, 4, 3, 6, 5]\n",
    "    \"\"\"\n",
    "    seq = [0]\n",
    "    for tup in tupps:\n",
    "        seq.extend(tup)\n",
    "    seq[0]=seq[-1]\n",
    "    del seq[-1]\n",
    "    return seq\n",
    "\n",
    "def sequence_to_chrom(seq):\n",
    "    chrom = []\n",
    "    for i in range(int(len(seq)/2)):\n",
    "        if seq[2*i] < seq[2*i+1]:\n",
    "            chrom.append(int(seq[2*i+1]/2))\n",
    "        else:\n",
    "            chrom.append(int(-seq[2*i]/2))\n",
    "    return chrom\n",
    "\n",
    "def format_chromosomes(chroms):\n",
    "    return \"\".join([format_chromosome(ch) for ch in chroms])\n",
    "    "
   ]
  },
  {
   "cell_type": "code",
   "execution_count": 18,
   "metadata": {},
   "outputs": [
    {
     "data": {
      "text/plain": [
       "'(+1 -2 -3)(-4 +5 -6)'"
      ]
     },
     "execution_count": 18,
     "metadata": {},
     "output_type": "execute_result"
    }
   ],
   "source": [
    "t=\"(2, 4), (3, 6), (5, 1), (7, 9), (10, 12), (11, 8)\"\n",
    "format_chromosomes(GraphToGenome(t))"
   ]
  },
  {
   "cell_type": "code",
   "execution_count": null,
   "metadata": {},
   "outputs": [],
   "source": []
  }
 ],
 "metadata": {
  "kernelspec": {
   "display_name": "Python 3",
   "language": "python",
   "name": "python3"
  },
  "language_info": {
   "codemirror_mode": {
    "name": "ipython",
    "version": 3
   },
   "file_extension": ".py",
   "mimetype": "text/x-python",
   "name": "python",
   "nbconvert_exporter": "python",
   "pygments_lexer": "ipython3",
   "version": "3.6.5"
  }
 },
 "nbformat": 4,
 "nbformat_minor": 2
}
