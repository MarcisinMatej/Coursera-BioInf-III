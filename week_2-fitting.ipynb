{
 "cells": [
  {
   "cell_type": "code",
   "execution_count": 11,
   "metadata": {},
   "outputs": [],
   "source": [
    "def ConstructFittingAllignment(backtrack,seq1,seq2,start_row, start_col):\n",
    "    \"\"\"\n",
    "    Constructs globall allignment from the allignment graph\n",
    "    \"\"\"\n",
    "    ALL_1=\"\"\n",
    "    ALL_2=\"\"\n",
    "    i = start_row\n",
    "    j = start_col\n",
    "    while i > 0 and j > 0:\n",
    "        if backtrack[i][j] == \"DG\":\n",
    "            ALL_1+=seq1[i-1]\n",
    "            ALL_2+=seq2[j-1]\n",
    "            i = i-1\n",
    "            j = j-1\n",
    "        # Down\n",
    "        elif backtrack[i][j] == \"D\":\n",
    "            ALL_1+=seq1[i-1]\n",
    "            ALL_2+=\"-\"\n",
    "            i = i-1\n",
    "        else:\n",
    "            ALL_1+=\"-\"\n",
    "            ALL_2+=seq2[j-1]\n",
    "            j = j-1\n",
    "    \n",
    "    print(ALL_1[::-1])\n",
    "    print(ALL_2[::-1])"
   ]
  },
  {
   "cell_type": "code",
   "execution_count": 44,
   "metadata": {},
   "outputs": [],
   "source": [
    "def FittingAllignmentGraph(seq1, seq2, match_bonus, mismatch_penalty, indel_penalty):\n",
    "    \"\"\"\n",
    "    Creates \n",
    "    seq1 -> represents rowumn\n",
    "    seq2 -> represents col\n",
    "    Returns (path_graph, max_score, start_row & start_col)\n",
    "    Start_col is allways the last column\n",
    "    \"\"\"\n",
    "    # need to initialize with indel penalty\n",
    "    match_graph = [ [0 for row in range(len(seq2)+1)] for col in range(len(seq1)+1)]\n",
    "    for col in range(0, len(seq2)+1):\n",
    "        match_graph[0][col] = -indel_penalty*col\n",
    "    \n",
    "    max_score = -float('inf')\n",
    "    s_row = -1\n",
    "    bt_graph = [ [\"-\" for row in range(len(seq2)+1)] for col in range(len(seq1)+1)]\n",
    "    for row in range(1, len(seq1)+1):\n",
    "        for col in range(1, len(seq2)+1):\n",
    "            if seq1[row-1] == seq2[col-1]:\n",
    "                match_score = match_bonus\n",
    "            else:\n",
    "                match_score = -mismatch_penalty\n",
    "            \n",
    "            match_graph[row][col] = max(match_graph[row-1][col] - indel_penalty, match_graph[row][col-1] - indel_penalty, match_graph[row-1][col-1]+match_score)\n",
    "            if match_graph[row][col] == match_graph[row-1][col] - indel_penalty:\n",
    "                bt_graph[row][col] = \"D\"\n",
    "            elif match_graph[row][col] == match_graph[row][col-1] - indel_penalty:\n",
    "                bt_graph[row][col] = \"R\"\n",
    "            elif match_graph[row][col] == match_graph[row-1][col-1]+match_score:\n",
    "                bt_graph[row][col] = \"DG\"\n",
    "        \n",
    "        if match_graph[row][-1] > max_score:\n",
    "            max_score = match_graph[row][-1]\n",
    "            s_row = row\n",
    "        \n",
    "#     print(match_graph)    \n",
    "    return bt_graph, max_score, s_row, len(bt_graph[0])-1"
   ]
  },
  {
   "cell_type": "code",
   "execution_count": 45,
   "metadata": {},
   "outputs": [],
   "source": [
    "def read_seq_file(path):\n",
    "    with open(path) as f:\n",
    "        seq1 = f.readline().strip()\n",
    "        seq2 = f.readline().strip()\n",
    "    return seq1, seq2"
   ]
  },
  {
   "cell_type": "code",
   "execution_count": 48,
   "metadata": {},
   "outputs": [],
   "source": [
    "def FittingAllignment(seq1, seq2):\n",
    "    all_graph, max_score, r,c = FittingAllignmentGraph(seq1,seq2,1,1,1)\n",
    "#     print(r,c)\n",
    "    print(max_score)\n",
    "    ConstructFittingAllignment(all_graph,seq1, seq2,r,c)"
   ]
  },
  {
   "cell_type": "code",
   "execution_count": 50,
   "metadata": {},
   "outputs": [
    {
     "name": "stdout",
     "output_type": "stream",
     "text": [
      "21\n",
      "AT-CGTACGCACGGT-A-C-T-GC-GT-ACGATC-A-GGTGTAGATAGTA-ACC-TGT-ACCAA-C-TAGGT--TCATCATCCATACATTTTG\n",
      "ATACCTTCGC-CGATGAACGTAGCCGTGAAGATCCATGGC-TA-A--G-ACACCATCTTAACGATCAT-GGTACTCTTCTTAC-TAAATTTTG\n"
     ]
    }
   ],
   "source": [
    "path=\"/Users/marcisin/Downloads/dataset_248_5.txt\"\n",
    "s1, s2 =read_seq_file(path)\n",
    "# s1 = \"GTAGGCTTAAGGTTA\"\n",
    "# s2 = \"TAGATA\"\n",
    "FittingAllignment(s1,s2)"
   ]
  },
  {
   "cell_type": "code",
   "execution_count": 82,
   "metadata": {},
   "outputs": [],
   "source": [
    "def OverlapAllignmentGraph(seq1, seq2, match_bonus, mismatch_penalty, indel_penalty):\n",
    "    \"\"\"\n",
    "    Creates \n",
    "    seq1 -> represents rowumn\n",
    "    seq2 -> represents col\n",
    "    Returns (path_graph, max_score, start_row & start_col)\n",
    "    Start_col is allways the last column\n",
    "    \"\"\"\n",
    "    # need to initialize with indel penalty\n",
    "    match_graph = [ [0 for row in range(len(seq2)+1)] for col in range(len(seq1)+1)]\n",
    "    for col in range(0, len(seq2)+1):\n",
    "        match_graph[0][col] = -indel_penalty*col\n",
    "    \n",
    "    max_score = -float('inf')\n",
    "    s_row = -1\n",
    "    bt_graph = [ [\"-\" for row in range(len(seq2)+1)] for col in range(len(seq1)+1)]\n",
    "    for row in range(1, len(seq1)+1):\n",
    "        for col in range(1, len(seq2)+1):\n",
    "            if seq1[row-1] == seq2[col-1]:\n",
    "                match_score = match_bonus\n",
    "            else:\n",
    "                match_score = -mismatch_penalty\n",
    "            \n",
    "            match_graph[row][col] = max(match_graph[row-1][col] - indel_penalty, match_graph[row][col-1] - indel_penalty, match_graph[row-1][col-1]+match_score)\n",
    "            if match_graph[row][col] == match_graph[row-1][col] - indel_penalty:\n",
    "                bt_graph[row][col] = \"D\"\n",
    "            elif match_graph[row][col] == match_graph[row][col-1] - indel_penalty:\n",
    "                bt_graph[row][col] = \"R\"\n",
    "            elif match_graph[row][col] == match_graph[row-1][col-1]+match_score:\n",
    "                bt_graph[row][col] = \"DG\"\n",
    "        \n",
    "    for s_col_id, val in enumerate(match_graph[-1]):\n",
    "        if val > max_score:\n",
    "            max_score = val\n",
    "            s_col = s_col_id+1\n",
    "        \n",
    "#     print(match_graph)    \n",
    "    return bt_graph, max_score, len(bt_graph)-1, s_col"
   ]
  },
  {
   "cell_type": "code",
   "execution_count": 92,
   "metadata": {},
   "outputs": [],
   "source": [
    "def ConstructOverlapAllignment(backtrack,seq1,seq2,start_row, start_col):\n",
    "    \"\"\"\n",
    "    Constructs globall allignment from the allignment graph\n",
    "    \"\"\"\n",
    "    ALL_1=\"\"\n",
    "    ALL_2=\"\"\n",
    "    i = start_row\n",
    "    j = start_col\n",
    "    while i > 0 and j > 0:\n",
    "        if backtrack[i][j] == \"DG\":\n",
    "            ALL_1+=seq1[i-1]\n",
    "            ALL_2+=seq2[j-1]\n",
    "            i = i-1\n",
    "            j = j-1\n",
    "        # Down\n",
    "        elif backtrack[i][j] == \"D\":\n",
    "            ALL_1+=seq1[i-1]\n",
    "            ALL_2+= \"-\"\n",
    "            i = i-1\n",
    "        else:\n",
    "            ALL_1+= \"-\"\n",
    "            ALL_2+=seq2[j-1]\n",
    "            j = j-1\n",
    "    \n",
    "    print(ALL_1[::-1])\n",
    "    print(ALL_2[::-1])"
   ]
  },
  {
   "cell_type": "code",
   "execution_count": 93,
   "metadata": {},
   "outputs": [],
   "source": [
    "def OverlapAllignment(seq1, seq2):\n",
    "    all_graph, max_score, r,c = OverlapAllignmentGraph(seq1,seq2,1,2,2)\n",
    "#     print(r,c)\n",
    "    print(max_score)\n",
    "    ConstructOverlapAllignment(all_graph,seq1, seq2,r,c)"
   ]
  },
  {
   "cell_type": "code",
   "execution_count": 95,
   "metadata": {},
   "outputs": [
    {
     "name": "stdout",
     "output_type": "stream",
     "text": [
      "1\n",
      "HEAE\n",
      "HEAG\n"
     ]
    }
   ],
   "source": [
    "path=\"/Users/marcisin/Downloads/dataset_248_7 (4).txt\"\n",
    "s1, s2 =read_seq_file(path)\n",
    "s1 = \"PAWHEAE\"\n",
    "s2 = \"HEAGAWGHEE\"\n",
    "OverlapAllignment(s1,s2)"
   ]
  },
  {
   "cell_type": "code",
   "execution_count": null,
   "metadata": {},
   "outputs": [],
   "source": []
  }
 ],
 "metadata": {
  "kernelspec": {
   "display_name": "Python 3",
   "language": "python",
   "name": "python3"
  },
  "language_info": {
   "codemirror_mode": {
    "name": "ipython",
    "version": 3
   },
   "file_extension": ".py",
   "mimetype": "text/x-python",
   "name": "python",
   "nbconvert_exporter": "python",
   "pygments_lexer": "ipython3",
   "version": "3.7.3"
  }
 },
 "nbformat": 4,
 "nbformat_minor": 2
}
