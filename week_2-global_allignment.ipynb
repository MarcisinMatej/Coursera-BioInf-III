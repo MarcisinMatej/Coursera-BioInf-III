{
 "cells": [
  {
   "cell_type": "code",
   "execution_count": 2,
   "metadata": {},
   "outputs": [],
   "source": [
    "def read_BLOSUM_table(path):\n",
    "    \"\"\"\n",
    "    Reads BLOSUM table\n",
    "    the key = row_alpha + col_alpha\n",
    "    \"\"\"\n",
    "    fr = open(path,\"r\")\n",
    "    res_mat = {}\n",
    "    alpha = fr.readline().strip().split()\n",
    "    for line in fr.readlines():\n",
    "        row_alpha = line[0]\n",
    "        for col_alpha, val in zip(alpha,line.split()[1:]):\n",
    "            key = row_alpha + col_alpha\n",
    "            res_mat[key] = int(val)\n",
    "    return res_mat"
   ]
  },
  {
   "cell_type": "code",
   "execution_count": 3,
   "metadata": {},
   "outputs": [],
   "source": [
    "path = \"/Users/marcisin/Desktop/BLOSUM62.txt\"\n",
    "table = read_BLOSUM_table(path)"
   ]
  },
  {
   "cell_type": "code",
   "execution_count": 166,
   "metadata": {},
   "outputs": [],
   "source": [
    "def ConstructGlobalAllignment(backtrack,seq1,seq2):\n",
    "    \"\"\"\n",
    "    Constructs globall allignment from the allignment graph\n",
    "    \"\"\"\n",
    "    ALL_1=\"\"\n",
    "    ALL_2=\"\"\n",
    "    i = len(seq1)\n",
    "    j = len(seq2)\n",
    "    while i > 0 and j > 0:\n",
    "        if backtrack[i][j] == \"DG\":\n",
    "            ALL_1+=seq1[i-1]\n",
    "            ALL_2+=seq2[j-1]\n",
    "            i = i-1\n",
    "            j = j-1\n",
    "        # Down\n",
    "        elif backtrack[i][j] == \"D\":\n",
    "            ALL_1+=seq1[i-1]\n",
    "            ALL_2+=\"-\"\n",
    "            i = i-1\n",
    "        else:\n",
    "            ALL_1+=\"-\"\n",
    "            ALL_2+=seq2[j-1]\n",
    "            j = j-1\n",
    "            \n",
    "   # because we want full allignment, we need to get to point 0,0\n",
    "    while i != 0 or j != 0:\n",
    "        if backtrack[i]!=0:\n",
    "            ALL_1+=seq1[i-1]\n",
    "            ALL_2+=\"-\"\n",
    "            i = i-1\n",
    "        else:\n",
    "            ALL_1+=\"-\"\n",
    "            ALL_2+=seq2[j-1]\n",
    "            j = j-1\n",
    "    \n",
    "    print(ALL_1[::-1])\n",
    "    print(ALL_2[::-1])"
   ]
  },
  {
   "cell_type": "code",
   "execution_count": 186,
   "metadata": {},
   "outputs": [],
   "source": [
    "def GlobalAllignmentGraph(seq1, seq2, table, indel_penalty):\n",
    "    \"\"\"\n",
    "    Creates \n",
    "    seq1 -> represents rowumn\n",
    "    seq2 -> represents col\n",
    "    Returns (path_graph, max_score)\n",
    "    \"\"\"\n",
    "    # need to initialize with indel penalty\n",
    "    match_graph = [ [0 for row in range(len(seq2)+1)] for col in range(len(seq1)+1)]\n",
    "    for row in range(0, len(seq1)+1):\n",
    "        match_graph[row][0] = -indel_penalty*row  \n",
    "    for col in range(0, len(seq2)+1):\n",
    "        match_graph[0][col] = -indel_penalty*col\n",
    "    \n",
    "    \n",
    "    bt_graph = [ [\"-\" for row in range(len(seq2)+1)] for col in range(len(seq1)+1)]\n",
    "    for row in range(1, len(seq1)+1):\n",
    "        for col in range(1, len(seq2)+1):\n",
    "            key = seq1[row-1] + seq2[col-1]\n",
    "            match_score = table[key]\n",
    "            \n",
    "            match_graph[row][col] = max(match_graph[row-1][col] - indel_penalty, match_graph[row][col-1] - indel_penalty, match_graph[row-1][col-1]+match_score)\n",
    "            if match_graph[row][col] == match_graph[row-1][col] - indel_penalty:\n",
    "                bt_graph[row][col] = \"D\"\n",
    "            elif match_graph[row][col] == match_graph[row][col-1] - indel_penalty:\n",
    "                bt_graph[row][col] = \"R\"\n",
    "            elif match_graph[row][col] == match_graph[row-1][col-1]+match_score:\n",
    "                bt_graph[row][col] = \"DG\"\n",
    "    \n",
    "#     print(match_graph)\n",
    "    \n",
    "    return bt_graph, match_graph[-1][-1]"
   ]
  },
  {
   "cell_type": "code",
   "execution_count": 185,
   "metadata": {},
   "outputs": [
    {
     "name": "stdout",
     "output_type": "stream",
     "text": [
      "[[0, -5, -10, -15, -20, -25, -30], [-5, -2, -6, -11, -16, -21, -26], [-10, -3, -5, -7, -12, -12, -17], [-15, -8, 2, -3, -7, -12, -14], [-20, -13, -3, 6, 1, -4, -9], [-25, -18, -8, 1, 7, 2, -3], [-30, -23, -13, -4, 2, 6, 1], [-35, -28, -18, -9, 2, 1, 4], [-40, -33, -23, -14, -3, 1, -1], [-45, -38, -28, -19, -8, 1, 0], [-50, -43, -33, -24, -13, -4, 8]]\n",
      "PLEASANTLY\n",
      "-MEA--N-LY\n"
     ]
    }
   ],
   "source": [
    "s1=\"PLEASANTLY\"\n",
    "s2=\"MEANLY\"\n",
    "\n",
    "g,_ = create_allignment_graph(s1,s2,table,5)\n",
    "parse_while_allign(g,s1, s2)"
   ]
  },
  {
   "cell_type": "code",
   "execution_count": 170,
   "metadata": {},
   "outputs": [],
   "source": [
    "def read_seq_file(path):\n",
    "    with open(path) as f:\n",
    "        seq1 = f.readline().strip()\n",
    "        seq2 = f.readline().strip()\n",
    "    return seq1, seq2"
   ]
  },
  {
   "cell_type": "code",
   "execution_count": 171,
   "metadata": {},
   "outputs": [],
   "source": [
    "def GlobalAllignment(seq1, seq2, penalty, table):\n",
    "    all_graph, match_g = create_allignment_graph(seq1,seq2,table,penalty)\n",
    "    print(match_g)\n",
    "    parse_while_allign(all_graph,seq1, seq2)"
   ]
  },
  {
   "cell_type": "code",
   "execution_count": 187,
   "metadata": {},
   "outputs": [
    {
     "name": "stdout",
     "output_type": "stream",
     "text": [
      "1783\n",
      "QMRAAWMHDKSQDAQKIFKHVYNP---IWGMPSFMGHPGSNWFNGEPFAHYMRFHQLADYGAAARIRLAGWNVEKVEVYPLQFHYWVDPI-V--PIHTVNMGSKGTCTTQVKNTCRFQMNIFFPSYYTIAHPATHAATLVHEFRCEKCQCPDRIYFPMKW---DKQYCRN-C---Y-V--A-MEG---KD--LGCTELNCIAWEAPFCCGLNSHRWILANDCKCWFERQKDDVVDDHHFHYENNLFFTGISSPEKAFWTQRNAEINTKWMIMR-----H--H-----VDIYQYAQKARMTS-KFNFGYIIFVNHSQMIIWPSR-RIMTDFYKQNISIATCDCSFSAAALTPRIDTTSVWQHPLCVDQRVMDSTLNRRGMASKCV---DPGDVNCRMGNF-----C--MEYMMNYEGHLN-T-----QMADY--T-Y--FYNWKAMMFPQGLIDTFVYMNTTRFPKEMLTKFWEPHFHVFLAFCWWGHY-GCHIPL-NV-CNKVGDVK-NFSHI-HPTS-FFALQHTM--WPN-QLSHAMYCTDEEHFVM-R---YFRWPWDTK-SQDG--SNTGPHQGF-W---K--AYMLKKE-Q-ICTLFETDNPGFPPAREGFKPANHKVKRVNH-EPWHYRTMMKYKYMWAVDTEPVRCSKMMSDKPKLTCTTQVEYSDITSKKDQEAQFFDMDPEKASRWFADYSHDCRYAVCDCKQSLEEYWVWLIPYWLDAIAEMVCFMQSSIRIWMAEDMVYFRNTF-S-----TIDKTMRHWWHLRKAHKGIQAMQQHAQQNGL--A--MNFTDCWFSN----GCFGTY-QDCMEIETGKSLTDFLLFKLMKLCGVILGIPAWIKNAILWRQPKVEQLCACENNWTAVHMSMDNYSQVSEFE\n",
      "QMRAAWNQDWHQRLIKIFKHVYNQMLDIWDIMSFMLHPGWNWYM-RWLDPQQR-HILADYGAAWRIRLAGWRVEKVEGY--S-HYWSDPIPVIEPIHTVNMGSAGTCTTQVKNTCRKQMNI--------AHMATHANTLVHEFRCEKYR-RRKVLFPMLWHTCENQYCRNVAMEGWDVFHTTQDSAQAKKFRLGCTELNCIAWEAPFCCGLNCKSWF--EE-HFHYELNLFNCHESNQCR-QGKAFWTYFCAP--A--SMRNAEINTKWMIMQISNQPHSPHHMYADIDIYQYAQKARMTDVRPNEREIKFTD----IIWNGTCRIK--FFL-NISIATCDCS-KIDT-TSG-GWQLIPANPLCVDQCVMDSTLNRRGMASKCVHPANPGDVNCRMGNFQWNDGIGWMEYMMNYEGHLNYSELSMCQMADYRWAKFHMFYNHKAMMFPQGLIDTFVYMNTGRFPKEMLTKFWNPHFHVFLAFNWVSRWWG-HAEIDNWGCNIVELVPMGGTPTSHPTIYFFALQHTMVKWIIIWLSHAWYCTDEEHFVMPQTFCYFRWPCDTKPSQDRCCEHGGPHPSWKWVFYRGFAYMMQMSFRWVKTLFETDNPGFPPTRQHITP--YGFKPANHKEPWQMRTMMKYKYMWAVRT----CMSM-SMNPKLT-------SDITSKK-----FSVMDPE----WVINKSR-W-FAVCDCKH--E-YWVWLIP--M-TLC-MVCFMQSSIRIWMAECMVYFRNTFVSGFIFITIDKTMRHWWHLRKTHKG-Q-YQERGLQRGLFYQKHMNFTDCWFSEQPYTGCFGTYTKDCMEIELLFKLIRYLPF-MYP-AWII-N--ATCQNAILWRQPKMEQLCASENNWT----S-----QTSEFE\n"
     ]
    }
   ],
   "source": [
    "path=\"/Users/marcisin/Downloads/dataset_247_3 (4).txt\"\n",
    "s1, s2 =read_seq_file(path)\n",
    "# s1=\"PLEASANTLY\"\n",
    "# s2=\"MEANLY\"\n",
    "penalty = 5\n",
    "GlobalAllignment(s1, s2, penalty, table)"
   ]
  },
  {
   "cell_type": "code",
   "execution_count": 184,
   "metadata": {},
   "outputs": [
    {
     "name": "stdout",
     "output_type": "stream",
     "text": [
      "[[0, -5, -10, -15, -20, -25, -30, -35, -40, -45, -50, -55, -60, -65, -70, -75, -80, -85, -90], [-5, -2, -7, -10, -9, -14, -19, -24, -29, -34, -39, -44, -49, -54, -59, -64, -69, -74, -79], [-10, -7, 5, 0, -5, -10, -15, -20, -25, -22, -27, -32, -37, -42, -47, -52, -57, -62, -67], [-15, -8, 0, 5, 1, -4, -9, -14, -19, -24, -22, -27, -32, -37, -42, -47, -52, -57, -54], [-20, -13, -5, 0, 2, -1, -6, -8, -13, -18, -23, -23, -28, -33, -36, -41, -46, -51, -56], [-25, -18, -10, -5, -3, -1, -4, -3, -8, -13, -18, -23, -25, -30, -30, -35, -40, -45, -50], [-30, -18, -15, -10, -7, -4, 1, -4, -5, -10, -14, -19, -24, -27, -31, -31, -36, -41, -43], [-35, -23, -19, -15, -10, -5, -4, -1, 1, -4, -8, -13, -18, -23, -28, -29, -31, -36, -41], [-40, -28, -24, -20, -15, -10, 6, 1, -4, -3, -6, -11, -16, -21, -26, -30, -32, -34, -38], [-45, -33, -29, -24, -14, -15, 1, 3, 1, -4, -3, -8, -10, -15, -20, -25, -29, -34, -33], [-50, -38, -34, -24, -19, -13, -4, -2, 3, -1, -3, -4, -9, -5, -10, -15, -20, -25, -30], [-55, -43, -39, -29, -24, -18, -9, -7, -2, 1, 0, -4, -5, -4, -8, -9, -14, -19, -24], [-60, -48, -44, -34, -29, -23, -14, -10, -7, -4, -2, -2, -6, -8, -5, -10, -11, -16, -20], [-65, -53, -49, -39, -34, -28, -19, -14, -11, -8, -5, 2, -1, -6, -8, -6, -9, -7, -12], [-70, -58, -54, -44, -39, -33, -24, -19, -16, -13, -10, -3, 2, -3, -8, -10, -6, -9, -9], [-75, -63, -59, -49, -43, -38, -29, -24, -19, -18, -13, -8, -3, 2, -3, -8, -11, -8, -1], [-80, -68, -64, -54, -48, -43, -34, -29, -24, -20, -18, -13, -7, -3, 2, -3, -7, -11, -6], [-85, -73, -69, -59, -53, -47, -39, -34, -29, -25, -19, -18, -12, -2, -3, 3, -2, -7, -11], [-90, -78, -74, -64, -58, -52, -44, -39, -34, -30, -24, -18, -14, -7, -4, -2, 7, 2, -3], [-95, -83, -79, -69, -58, -57, -49, -44, -39, -35, -29, -23, -17, -12, -9, -4, 2, 5, 3], [-100, -88, -84, -74, -63, -61, -54, -49, -44, -40, -34, -28, -22, -17, -13, -9, -3, 0, 4], [-105, -93, -89, -79, -68, -63, -59, -54, -49, -45, -39, -33, -27, -22, -18, -13, -8, -5, 8], [-110, -98, -94, -84, -73, -68, -64, -59, -54, -50, -44, -38, -32, -27, -23, -18, -13, -8, 3]]\n",
      "3\n",
      "NPHLIYEWNRRFAGHTRSNFHG\n",
      "YPR--NQWVEPQASRVQSA-H-\n"
     ]
    }
   ],
   "source": [
    "GlobalAllignment('NPHLIYEWNRRFAGHTRSNFHG','YPRNQWVEPQASRVQSAH',5,table)"
   ]
  },
  {
   "cell_type": "code",
   "execution_count": null,
   "metadata": {},
   "outputs": [],
   "source": []
  }
 ],
 "metadata": {
  "kernelspec": {
   "display_name": "Python 3",
   "language": "python",
   "name": "python3"
  },
  "language_info": {
   "codemirror_mode": {
    "name": "ipython",
    "version": 3
   },
   "file_extension": ".py",
   "mimetype": "text/x-python",
   "name": "python",
   "nbconvert_exporter": "python",
   "pygments_lexer": "ipython3",
   "version": "3.6.5"
  }
 },
 "nbformat": 4,
 "nbformat_minor": 2
}
