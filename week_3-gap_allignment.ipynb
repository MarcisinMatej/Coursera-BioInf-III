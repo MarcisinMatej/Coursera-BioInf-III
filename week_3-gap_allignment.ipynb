{
 "cells": [
  {
   "cell_type": "code",
   "execution_count": 10,
   "metadata": {},
   "outputs": [],
   "source": [
    "def read_BLOSUM_table(path=\"/Users/marcisin/Desktop/BLOSUM62.txt\"):\n",
    "    \"\"\"\n",
    "    Reads BLOSUM table\n",
    "    the key = tupple (row_char, col_char)\n",
    "    \"\"\"\n",
    "    fr = open(path,\"r\")\n",
    "    res_mat = {}\n",
    "    alpha = fr.readline().strip().split()\n",
    "    for line in fr.readlines():\n",
    "        row_alpha = line[0]\n",
    "        for col_alpha, val in zip(alpha,line.split()[1:]):\n",
    "            key = (row_alpha, col_alpha)\n",
    "            res_mat[key] = int(val)\n",
    "    return res_mat\n",
    "\n",
    "def read_seq_file(path):\n",
    "    with open(path) as f:\n",
    "        seq1 = f.readline().strip()\n",
    "        seq2 = f.readline().strip()\n",
    "    return seq1, seq2"
   ]
  },
  {
   "cell_type": "code",
   "execution_count": 11,
   "metadata": {},
   "outputs": [],
   "source": [
    "def ConstructGlobalAllignment(backtrack,seq1,seq2):\n",
    "    \"\"\"\n",
    "    Constructs globall allignment from the allignment graph\n",
    "    \"\"\"\n",
    "    ALL_1=\"\"\n",
    "    ALL_2=\"\"\n",
    "    i = len(seq1)\n",
    "    j = len(seq2)\n",
    "    while i > 0 and j > 0:\n",
    "        if backtrack[i][j] == \"DG\":\n",
    "            ALL_1+=seq1[i-1]\n",
    "            ALL_2+=seq2[j-1]\n",
    "            i = i-1\n",
    "            j = j-1\n",
    "        # Down\n",
    "        elif backtrack[i][j] == \"D\":\n",
    "            ALL_1+=seq1[i-1]\n",
    "            ALL_2+=\"-\"\n",
    "            i = i-1\n",
    "        else:\n",
    "            ALL_1+=\"-\"\n",
    "            ALL_2+=seq2[j-1]\n",
    "            j = j-1\n",
    "            \n",
    "   # because we want full allignment, we need to get to point 0,0\n",
    "    while i != 0 or j != 0:\n",
    "        if backtrack[i]!=0:\n",
    "            ALL_1+=seq1[i-1]\n",
    "            ALL_2+=\"-\"\n",
    "            i = i-1\n",
    "        else:\n",
    "            ALL_1+=\"-\"\n",
    "            ALL_2+=seq2[j-1]\n",
    "            j = j-1\n",
    "    \n",
    "    print(ALL_1[::-1])\n",
    "    print(ALL_2[::-1])"
   ]
  },
  {
   "cell_type": "code",
   "execution_count": 32,
   "metadata": {},
   "outputs": [],
   "source": [
    "def GlobalAllignmentWithAffineGapGraph(seq1, seq2, table, open_penalty, gap_penalty):\n",
    "    \"\"\"\n",
    "    Creates allignment matrices with affine gap\n",
    "    seq1 -> represents rowumn\n",
    "    seq2 -> represents col\n",
    "    indel_panalaty -> shoud be possitive number. We substract in the code.\n",
    "    Returns (path_graph, max_score)\n",
    "    \"\"\"\n",
    "    # we have 3 matrices\n",
    "    horizontal_mat = [ [0 for row in range(len(seq2)+1)] for col in range(len(seq1)+1)]\n",
    "    diagonal_mat = [ [0 for row in range(len(seq2)+1)] for col in range(len(seq1)+1)]\n",
    "    vertical_mat = [ [0 for row in range(len(seq2)+1)] for col in range(len(seq1)+1)]\n",
    "    # start with open penalty and than just add\n",
    "    horizontal_mat[1][0] = open_penalty\n",
    "    for row in range(2, len(seq1)+1):\n",
    "        horizontal_mat[row][0] = horizontal_mat[row-1][0] - gap_penalty  \n",
    "    vertical_mat[0][1] = open_penalty\n",
    "    for col in range(2, len(seq2)+1):\n",
    "        vertical_mat[0][col] = vertical_mat[0][col-1] - gap_penalty\n",
    "    \n",
    "    \n",
    "    bt_graph = [ [\"-\" for row in range(len(seq2)+1)] for col in range(len(seq1)+1)]\n",
    "    for row in range(1, len(seq1)+1):\n",
    "        for col in range(1, len(seq2)+1):\n",
    "            key = (seq1[row-1], seq2[col-1])\n",
    "            match_score = table[key]\n",
    "            # when opening a gap we allways use open penalty from the diagonal\n",
    "            # horizontal, we can either open gap or continue gap, also we can move (look) only in row\n",
    "            horizontal_mat[row][col] = max( horizontal_mat[row-1][col] - gap_penalty, diagonal_mat[row-1][col] - open_penalty)\n",
    "            # vertical, we can either open gap or continue gap, also we can move (look) only in column\n",
    "            vertical_mat[row][col] = max( vertical_mat[row][col-1] - gap_penalty, diagonal_mat[row][col-1] - open_penalty)\n",
    "            # in diagonal we can either continue or return from gaps\n",
    "            diagonal_mat[row][col] = max(diagonal_mat[row-1][col-1] + match_score, vertical_mat[row][col], horizontal_mat[row][col])\n",
    "            \n",
    "            if horizontal_mat[row][col] >= max(vertical_mat[row][col], diagonal_mat[row][col]):\n",
    "                # go down\n",
    "                bt_graph[row][col] = \"D\"\n",
    "            elif vertical_mat[row][col] >= max(horizontal_mat[row][col], diagonal_mat[row][col]):\n",
    "                # go right\n",
    "                bt_graph[row][col] = \"R\"\n",
    "            else:\n",
    "                # go diagonal\n",
    "                bt_graph[row][col] = \"DG\"\n",
    "    \n",
    "#     print(bt_graph)\n",
    "    \n",
    "    return bt_graph, max(horizontal_mat[-1][-1], vertical_mat[-1][-1], diagonal_mat[-1][-1])\n",
    "\n"
   ]
  },
  {
   "cell_type": "code",
   "execution_count": 33,
   "metadata": {},
   "outputs": [],
   "source": [
    "def GlobalAllignmentWithAffineGap(seq1, seq2, table, o_p, g_p):\n",
    "    all_graph, max_score = GlobalAllignmentWithAffineGapGraph(seq1,seq2,table,o_p, g_p)\n",
    "    print(max_score)\n",
    "    ConstructGlobalAllignment(all_graph,seq1, seq2)"
   ]
  },
  {
   "cell_type": "code",
   "execution_count": 36,
   "metadata": {},
   "outputs": [
    {
     "name": "stdout",
     "output_type": "stream",
     "text": [
      "0\n",
      "AHRQPQ\n",
      "AH-ED-\n"
     ]
    }
   ],
   "source": [
    "path=\"/Users/marcisin/Downloads/dataset_249_8 (1).txt\"\n",
    "s1, s2 =read_seq_file(path)\n",
    "s1=\"AHRQPQ\"\n",
    "s2 = \"AHED\"\n",
    "open_pen = 11\n",
    "gap_pen = 1\n",
    "table = read_BLOSUM_table()\n",
    "GlobalAllignmentWithAffineGap(s1, s2, table, open_pen, gap_pen)"
   ]
  },
  {
   "cell_type": "code",
   "execution_count": null,
   "metadata": {},
   "outputs": [],
   "source": []
  },
  {
   "cell_type": "code",
   "execution_count": null,
   "metadata": {},
   "outputs": [],
   "source": []
  }
 ],
 "metadata": {
  "kernelspec": {
   "display_name": "Python 3",
   "language": "python",
   "name": "python3"
  },
  "language_info": {
   "codemirror_mode": {
    "name": "ipython",
    "version": 3
   },
   "file_extension": ".py",
   "mimetype": "text/x-python",
   "name": "python",
   "nbconvert_exporter": "python",
   "pygments_lexer": "ipython3",
   "version": "3.6.5"
  }
 },
 "nbformat": 4,
 "nbformat_minor": 2
}
