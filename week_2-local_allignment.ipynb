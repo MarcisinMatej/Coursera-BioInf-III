{
 "cells": [
  {
   "cell_type": "code",
   "execution_count": 1,
   "metadata": {},
   "outputs": [],
   "source": [
    "def read_PAM250_table(path):\n",
    "    \"\"\"\n",
    "    Reads BLOSUM table\n",
    "    the key = row_alpha + col_alpha\n",
    "    \"\"\"\n",
    "    fr = open(path,\"r\")\n",
    "    res_mat = {}\n",
    "    alpha = fr.readline().strip().split()\n",
    "    for line in fr.readlines():\n",
    "        row_alpha = line[0]\n",
    "        for col_alpha, val in zip(alpha,line.split()[1:]):\n",
    "            key = row_alpha.strip() + col_alpha.strip()\n",
    "            res_mat[key] = int(val)\n",
    "    return res_mat"
   ]
  },
  {
   "cell_type": "code",
   "execution_count": 1,
   "metadata": {},
   "outputs": [],
   "source": [
    "def LocalAllignmentGraph(seq1, seq2, table, indel_penalty):\n",
    "    \"\"\"\n",
    "    Creates \n",
    "    seq1 -> represents rowumn\n",
    "    seq2 -> represents col\n",
    "    Returns (path_graph, max_score)\n",
    "    \"\"\"\n",
    "    # need to initialize with indel penalty\n",
    "    match_graph = [ [0 for row in range(len(seq2)+1)] for col in range(len(seq1)+1)]\n",
    "    for row in range(0, len(seq1)+1):\n",
    "        match_graph[row][0] = -indel_penalty*row  \n",
    "    for col in range(0, len(seq2)+1):\n",
    "        match_graph[0][col] = -indel_penalty*col\n",
    "    \n",
    "    max_score = 0\n",
    "    fr_row = None\n",
    "    fr_col = None\n",
    "    \n",
    "    bt_graph = [ [\"-\" for row in range(len(seq2)+1)] for col in range(len(seq1)+1)]\n",
    "    for row in range(1, len(seq1)+1):\n",
    "        for col in range(1, len(seq2)+1):\n",
    "            key = seq1[row-1] + seq2[col-1]\n",
    "            match_score = table[key]\n",
    "            \n",
    "            match_graph[row][col] = max(0,match_graph[row-1][col] - indel_penalty, match_graph[row][col-1] - indel_penalty, match_graph[row-1][col-1]+match_score)\n",
    "            if match_graph[row][col] == match_graph[row-1][col] - indel_penalty:\n",
    "                bt_graph[row][col] = \"D\"\n",
    "            elif match_graph[row][col] == match_graph[row][col-1] - indel_penalty:\n",
    "                bt_graph[row][col] = \"R\"\n",
    "            elif match_graph[row][col] == match_graph[row-1][col-1]+match_score:\n",
    "                bt_graph[row][col] = \"DG\"\n",
    "            elif match_graph[row][col] == 0:\n",
    "                bt_graph[row][col] = \"FR\"\n",
    "            \n",
    "            # Check if it pays off to have a free ride to the sink\n",
    "            if match_graph[row][col] > max_score:\n",
    "                max_score = match_graph[row][col]\n",
    "                fr_row = row\n",
    "                fr_col = col\n",
    "    \n",
    "    # Mark free ride to source\n",
    "#     bt_graph[fr_row][fr_col] = \"FR_TO_SINK\"\n",
    "    match_graph[fr_row][fr_col] = max_score\n",
    "#     print(match_graph)\n",
    "#     print(bt_graph)\n",
    "    \n",
    "    return bt_graph, max_score, fr_row, fr_col"
   ]
  },
  {
   "cell_type": "code",
   "execution_count": 43,
   "metadata": {},
   "outputs": [],
   "source": [
    "def ConstructLocalAllignment(backtrack,seq1,seq2,start_row, start_col):\n",
    "    \"\"\"\n",
    "    Constructs globall allignment from the allignment graph\n",
    "    \"\"\"\n",
    "    ALL_1=\"\"\n",
    "    ALL_2=\"\"\n",
    "    i=start_row\n",
    "    j=start_col\n",
    "    while i > 0 and j > 0:\n",
    "        if backtrack[i][j] == \"DG\":\n",
    "            ALL_1+=seq1[i-1]\n",
    "            ALL_2+=seq2[j-1]\n",
    "            i = i-1\n",
    "            j = j-1\n",
    "        # Down\n",
    "        elif backtrack[i][j] == \"D\":\n",
    "            ALL_1+=seq1[i-1]\n",
    "            ALL_2+=\"-\"\n",
    "            i = i-1\n",
    "        # Right\n",
    "        elif backtrack[i][j] == \"R\":\n",
    "            ALL_1+=\"-\"\n",
    "            ALL_2+=seq2[j-1]\n",
    "            j = j-1\n",
    "        # Free Ride\n",
    "        elif backtrack[i][j] == \"FR\":\n",
    "            # we have a Free ride to source, so we end\n",
    "            break\n",
    "    \n",
    "    print(ALL_1[::-1])\n",
    "    print(ALL_2[::-1])"
   ]
  },
  {
   "cell_type": "code",
   "execution_count": 44,
   "metadata": {},
   "outputs": [],
   "source": [
    "def read_seq_file(path):\n",
    "    with open(path) as f:\n",
    "        seq1 = f.readline().strip()\n",
    "        seq2 = f.readline().strip()\n",
    "    return seq1, seq2"
   ]
  },
  {
   "cell_type": "code",
   "execution_count": 45,
   "metadata": {},
   "outputs": [],
   "source": [
    "def LocalAllignmentProblem(seq1, seq2, penalty, table):\n",
    "    all_graph, match_g,fr_r, fr_c = LocalAllignmentGraph(seq1,seq2,table,penalty)\n",
    "    print(match_g)\n",
    "    ConstructLocalAllignment(all_graph,seq1, seq2, fr_r, fr_c)"
   ]
  },
  {
   "cell_type": "code",
   "execution_count": 46,
   "metadata": {},
   "outputs": [],
   "source": [
    "pam250 = read_PAM250_table(\"/Users/marcisin/Desktop/PAM250.txt\")"
   ]
  },
  {
   "cell_type": "code",
   "execution_count": 47,
   "metadata": {},
   "outputs": [
    {
     "name": "stdout",
     "output_type": "stream",
     "text": [
      "[[0, -5, -10, -15, -20, -25, -30, -35], [-5, 0, 0, 0, 0, 0, 0, 0], [-10, 0, 4, 1, 0, 0, 0, 0], [-15, 0, 0, 4, 3, 0, 1, 0], [-20, 0, 1, 2, 4, 0, 0, 0], [-25, 0, 0, 0, 0, 10, 5, 0], [-30, 0, 0, 0, 0, 5, 7, 15]]\n",
      "[['-', '-', '-', '-', '-', '-', '-', '-'], ['-', 'FR', 'FR', 'FR', 'FR', 'FR', 'FR', 'FR'], ['-', 'FR', 'DG', 'DG', 'DG', 'FR', 'DG', 'FR'], ['-', 'FR', 'DG', 'DG', 'DG', 'FR', 'DG', 'FR'], ['-', 'FR', 'DG', 'DG', 'DG', 'DG', 'DG', 'FR'], ['-', 'FR', 'FR', 'FR', 'DG', 'DG', 'R', 'R'], ['-', 'FR', 'FR', 'FR', 'FR', 'D', 'DG', 'DG']]\n",
      "15\n",
      "EANL-Y\n",
      "ENALTY\n"
     ]
    }
   ],
   "source": [
    "s1=\"MEANLY\"\n",
    "s2=\"PENALTY\"\n",
    "pam250 = read_PAM250_table(\"/Users/marcisin/Desktop/PAM250.txt\")\n",
    "penalty=5\n",
    "LocalAllignmentProblem(s1,s2,penalty,pam250)"
   ]
  },
  {
   "cell_type": "code",
   "execution_count": 56,
   "metadata": {},
   "outputs": [
    {
     "name": "stdout",
     "output_type": "stream",
     "text": [
      "33\n",
      "TTTLLLLL\n",
      "SSSLLLLL\n"
     ]
    }
   ],
   "source": [
    "LocalAllignmentProblem('AAAAAASSSSSSSVVVVVVVVTTTTTTTLLLLLL','SSSSLLLLLTTTTTTTWWWWWWWWWWWPPPPPPPPPP',penalty,pam250)"
   ]
  },
  {
   "cell_type": "code",
   "execution_count": 57,
   "metadata": {},
   "outputs": [
    {
     "name": "stdout",
     "output_type": "stream",
     "text": [
      "1189\n",
      "QNRKTLFPDR-YS-FANGWSLYNLDMFINYVQPIRHRNIQYCITWNHLIQDASDF-HQF--MHQL-ARAHDCMMTHYARADT-VWCYCNAMNKLI-QSMRCGDI-D-RYFNGCYGPETVVAVQVWGNA-PQPGF-FMSMKYICKH-D--FF-YQN-CRS--CIQSKTIAQGVIIPM--EDDIV-RTYKE-W--W-S-FG--PK-DDFNKMCFVPKIIKYCEYWIQYAQ--FNISMCGRDKIHKWRKNCYHMQQE-IGF-CFAMM-E-FDNMMTFEFCPSQQLKG-GWIVKA-WH-C---MWQT--C--WQHGGLMFHMLSKCYYGIRPLRNDSEHTCQVTFWPY-D-MFAYNGKINF-HVMVGGGCEWACYAQ-P-M-----GMVGPPQMNDTHIENKVSL-S-----EP----M--LARHDYRMEHWAGDVSAYIGMAKVETRDDNMFLFMNHAIWAQP--LA-DCDKTG---Y----KEQTHVSEMKFPRQDFYQEMGCATLFGWKEGNQVRSVPGGCNPWCMKYHKTDWYVIKQVHYDMEKWDKNEQYIQMIPGRNSNDNW-LFCVMWNSHFKKAHRWGHTPADCEVWGTAYIRRQRHQF-QA--SCGWPNRYCHKIWSVRYKYPCGCLKYLKVMSKHVFVQKIYILEYSEME-CDRLEKEF-ERFCVYEYQCSTTL-NLP--AFCSCHI-M--FAL-IMM-SGSSREY----FYMRHRVDASV-SHLRDDGPPYIVYHKSR-DSGTYHKWTQNEAVSQQLCCTIKQ-AE-AH--M-WTETVLRMDYPMTWNDTARI-Q--V-M-WMTTTHHKEAPNQDW--ETRNMKAPFVWRKFQGNWCSGSHPHTRCYLIEMTDNPVNHWE-EC\n",
      "HIHITL-AGWAFPWLTAVWPRFD-CMFDPY-EKFWQQTMQLHAQQNESKHRCYIYVPQFDAIHYIQGTSWQ-IGNHKGIAESHTWHY-WRMEAEICDATQQTTLNDIRLFET-FD-DWASPQGSWKHAKNEVHLPWMEITFVFKQVDCQLWRHQTFCRPDHCQEHKDMLKGTT-PMGCENKVLCLTFQDDKMCWGSVYGIEPDSNEPSLLLYVHKVKRTTSDKKHNDTCWFEKIRCG-GSI--WRELMDQLARDWIGLKCIPQDDEMFRGVVSL-VSSMVE-RGWPWQLKGMWQICESCRWQDQLYKQWQHRHWPFAPMC-CYYGIRPLCSDWLE--H-A-W-FMEHIMTYP-MFVYNHVMVGGGCEWACYAQRAKMHDSEMGMVGPPQMNDTHIENKVSLDSWSDQNEPCYNNRRSLARHDHRMEHWAGDVKAYIGMAAVEARDDNMFLFMNHVRWHDKIWLQWDCDKAAIVQFCAGWKEQTHYSERNFARQCFYQEMGCATLFGKKEGNQVRSVPGGCNP-------TDWTVIKQVH----KWDKNEQYIQMIP-------WRLFCVMWNSHFKKAHRWGHTPAECEVW--AYIRRQRVQFWHPMGSCGWPDGI-N-I-QHRYKYPCGILKYLKVMD-E-W-D-IYLINHTSYHPCPTFMKTRPNK-CNKCWHIGAAMFGWPWQTLTGYHAYMAKFAHNITIHRVDCQVYSGAALFIKLWKGREFWANF-GDTN-FKQ-QGIWIHMISFY-WKPVKALSGFIGPNISDWITYQHFELLYGRDLFYVEYMLT-EDLMKFSEECVYLFWVV--RPGDYPRIGWVKNAADVITMF-WRP-Q--W-QGHSRNIK-W-T-MSI-PME-WGVAC\n"
     ]
    }
   ],
   "source": [
    "path=\"/Users/marcisin/Downloads/dataset_247_10.txt\"\n",
    "s1, s2 =read_seq_file(path)\n",
    "penalty=5\n",
    "pam250 = read_PAM250_table(\"/Users/marcisin/Desktop/PAM250.txt\")\n",
    "LocalAllignmentProblem(s1,s2,penalty,pam250)"
   ]
  },
  {
   "cell_type": "code",
   "execution_count": null,
   "metadata": {},
   "outputs": [],
   "source": []
  }
 ],
 "metadata": {
  "kernelspec": {
   "display_name": "Python 3",
   "language": "python",
   "name": "python3"
  },
  "language_info": {
   "codemirror_mode": {
    "name": "ipython",
    "version": 3
   },
   "file_extension": ".py",
   "mimetype": "text/x-python",
   "name": "python",
   "nbconvert_exporter": "python",
   "pygments_lexer": "ipython3",
   "version": "3.6.5"
  }
 },
 "nbformat": 4,
 "nbformat_minor": 2
}
